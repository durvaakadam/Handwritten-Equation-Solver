{
  "cells": [
    {
      "cell_type": "markdown",
      "metadata": {
        "id": "view-in-github",
        "colab_type": "text"
      },
      "source": [
        "<a href=\"https://colab.research.google.com/github/durvaakadam/Handwritten-Equation-Solver/blob/master/Digit_Recognition.ipynb\" target=\"_parent\"><img src=\"https://colab.research.google.com/assets/colab-badge.svg\" alt=\"Open In Colab\"/></a>"
      ]
    },
    {
      "cell_type": "code",
      "execution_count": null,
      "metadata": {
        "id": "lTUJuigrMs6G"
      },
      "outputs": [],
      "source": [
        "import numpy as np\n",
        "import matplotlib.pyplot as plt\n",
        "import tensorflow as tf\n",
        "from tensorflow.keras.datasets import mnist\n",
        "from tensorflow.keras.models import Sequential\n",
        "from tensorflow.keras.layers import Conv2D, MaxPooling2D, Flatten, Dense, Dropout\n"
      ]
    },
    {
      "cell_type": "code",
      "execution_count": null,
      "metadata": {
        "colab": {
          "base_uri": "https://localhost:8080/"
        },
        "id": "c3y8NbN7NDD9",
        "outputId": "be1b8e11-0548-4e23-a9b9-9465ddbef9c3"
      },
      "outputs": [
        {
          "output_type": "stream",
          "name": "stdout",
          "text": [
            "Downloading data from https://storage.googleapis.com/tensorflow/tf-keras-datasets/mnist.npz\n",
            "\u001b[1m11490434/11490434\u001b[0m \u001b[32m━━━━━━━━━━━━━━━━━━━━\u001b[0m\u001b[37m\u001b[0m \u001b[1m0s\u001b[0m 0us/step\n",
            "Training set shape: (60000, 28, 28, 1)\n",
            "Testing set shape: (10000, 28, 28, 1)\n"
          ]
        }
      ],
      "source": [
        "# Load dataset\n",
        "(x_train, y_train), (x_test, y_test) = mnist.load_data()\n",
        "\n",
        "# Normalize pixel values to 0–1 range\n",
        "x_train = x_train / 255.0\n",
        "x_test = x_test / 255.0\n",
        "\n",
        "# Reshape for CNN (samples, height, width, channels)\n",
        "x_train = x_train.reshape(-1, 28, 28, 1)\n",
        "x_test = x_test.reshape(-1, 28, 28, 1)\n",
        "\n",
        "print(\"Training set shape:\", x_train.shape)\n",
        "print(\"Testing set shape:\", x_test.shape)\n"
      ]
    },
    {
      "cell_type": "code",
      "execution_count": null,
      "metadata": {
        "colab": {
          "base_uri": "https://localhost:8080/",
          "height": 444
        },
        "id": "RiTvc4O-NGt3",
        "outputId": "8d43b694-601f-4182-804e-367f82d320f9"
      },
      "outputs": [
        {
          "output_type": "display_data",
          "data": {
            "text/plain": [
              "<Figure size 500x500 with 9 Axes>"
            ],
            "image/png": "[encoded data removed]"
          },
          "metadata": {}
        }
      ],
      "source": [
        "plt.figure(figsize=(5,5))\n",
        "for i in range(9):\n",
        "    plt.subplot(3,3,i+1)\n",
        "    plt.imshow(x_train[i].reshape(28,28), cmap=\"gray\")\n",
        "    plt.title(f\"Label: {y_train[i]}\")\n",
        "    plt.axis(\"off\")\n",
        "plt.show()\n"
      ]
    },
    {
      "cell_type": "code",
      "execution_count": null,
      "metadata": {
        "colab": {
          "base_uri": "https://localhost:8080/",
          "height": 436
        },
        "id": "Ydt6OTQ6NIWj",
        "outputId": "9e8a2408-6c54-4f8b-845f-ba04b4cfc9eb"
      },
      "outputs": [
        {
          "output_type": "stream",
          "name": "stderr",
          "text": [
            "/usr/local/lib/python3.12/dist-packages/keras/src/layers/convolutional/base_conv.py:113: UserWarning: Do not pass an `input_shape`/`input_dim` argument to a layer. When using Sequential models, prefer using an `Input(shape)` object as the first layer in the model instead.\n",
            "  super().__init__(activity_regularizer=activity_regularizer, **kwargs)\n"
          ]
        },
        {
          "output_type": "display_data",
          "data": {
            "text/plain": [
              "\u001b[1mModel: \"sequential\"\u001b[0m\n"
            ],
            "text/html": [
              "<pre style=\"white-space:pre;overflow-x:auto;line-height:normal;font-family:Menlo,'DejaVu Sans Mono',consolas,'Courier New',monospace\"><span style=\"font-weight: bold\">Model: \"sequential\"</span>\n",
              "</pre>\n"
            ]
          },
          "metadata": {}
        },
        {
          "output_type": "display_data",
          "data": {
            "text/plain": [
              "┏━━━━━━━━━━━━━━━━━━━━━━━━━━━━━━━━━┳━━━━━━━━━━━━━━━━━━━━━━━━┳━━━━━━━━━━━━━━━┓\n",
              "┃\u001b[1m \u001b[0m\u001b[1mLayer (type)                   \u001b[0m\u001b[1m \u001b[0m┃\u001b[1m \u001b[0m\u001b[1mOutput Shape          \u001b[0m\u001b[1m \u001b[0m┃\u001b[1m \u001b[0m\u001b[1m      Param #\u001b[0m\u001b[1m \u001b[0m┃\n",
              "┡━━━━━━━━━━━━━━━━━━━━━━━━━━━━━━━━━╇━━━━━━━━━━━━━━━━━━━━━━━━╇━━━━━━━━━━━━━━━┩\n",
              "│ conv2d (\u001b[38;5;33mConv2D\u001b[0m)                 │ (\u001b[38;5;45mNone\u001b[0m, \u001b[38;5;34m26\u001b[0m, \u001b[38;5;34m26\u001b[0m, \u001b[38;5;34m32\u001b[0m)     │           \u001b[38;5;34m320\u001b[0m │\n",
              "├─────────────────────────────────┼────────────────────────┼───────────────┤\n",
              "│ max_pooling2d (\u001b[38;5;33mMaxPooling2D\u001b[0m)    │ (\u001b[38;5;45mNone\u001b[0m, \u001b[38;5;34m13\u001b[0m, \u001b[38;5;34m13\u001b[0m, \u001b[38;5;34m32\u001b[0m)     │             \u001b[38;5;34m0\u001b[0m │\n",
              "├─────────────────────────────────┼────────────────────────┼───────────────┤\n",
              "│ conv2d_1 (\u001b[38;5;33mConv2D\u001b[0m)               │ (\u001b[38;5;45mNone\u001b[0m, \u001b[38;5;34m11\u001b[0m, \u001b[38;5;34m11\u001b[0m, \u001b[38;5;34m64\u001b[0m)     │        \u001b[38;5;34m18,496\u001b[0m │\n",
              "├─────────────────────────────────┼────────────────────────┼───────────────┤\n",
              "│ max_pooling2d_1 (\u001b[38;5;33mMaxPooling2D\u001b[0m)  │ (\u001b[38;5;45mNone\u001b[0m, \u001b[38;5;34m5\u001b[0m, \u001b[38;5;34m5\u001b[0m, \u001b[38;5;34m64\u001b[0m)       │             \u001b[38;5;34m0\u001b[0m │\n",
              "├─────────────────────────────────┼────────────────────────┼───────────────┤\n",
              "│ flatten (\u001b[38;5;33mFlatten\u001b[0m)               │ (\u001b[38;5;45mNone\u001b[0m, \u001b[38;5;34m1600\u001b[0m)           │             \u001b[38;5;34m0\u001b[0m │\n",
              "├─────────────────────────────────┼────────────────────────┼───────────────┤\n",
              "│ dense (\u001b[38;5;33mDense\u001b[0m)                   │ (\u001b[38;5;45mNone\u001b[0m, \u001b[38;5;34m128\u001b[0m)            │       \u001b[38;5;34m204,928\u001b[0m │\n",
              "├─────────────────────────────────┼────────────────────────┼───────────────┤\n",
              "│ dropout (\u001b[38;5;33mDropout\u001b[0m)               │ (\u001b[38;5;45mNone\u001b[0m, \u001b[38;5;34m128\u001b[0m)            │             \u001b[38;5;34m0\u001b[0m │\n",
              "├─────────────────────────────────┼────────────────────────┼───────────────┤\n",
              "│ dense_1 (\u001b[38;5;33mDense\u001b[0m)                 │ (\u001b[38;5;45mNone\u001b[0m, \u001b[38;5;34m10\u001b[0m)             │         \u001b[38;5;34m1,290\u001b[0m │\n",
              "└─────────────────────────────────┴────────────────────────┴───────────────┘\n"
            ],
            "text/html": [
              "<pre style=\"white-space:pre;overflow-x:auto;line-height:normal;font-family:Menlo,'DejaVu Sans Mono',consolas,'Courier New',monospace\">┏━━━━━━━━━━━━━━━━━━━━━━━━━━━━━━━━━┳━━━━━━━━━━━━━━━━━━━━━━━━┳━━━━━━━━━━━━━━━┓\n",
              "┃<span style=\"font-weight: bold\"> Layer (type)                    </span>┃<span style=\"font-weight: bold\"> Output Shape           </span>┃<span style=\"font-weight: bold\">       Param # </span>┃\n",
              "┡━━━━━━━━━━━━━━━━━━━━━━━━━━━━━━━━━╇━━━━━━━━━━━━━━━━━━━━━━━━╇━━━━━━━━━━━━━━━┩\n",
              "│ conv2d (<span style=\"color: #0087ff; text-decoration-color: #0087ff\">Conv2D</span>)                 │ (<span style=\"color: #00d7ff; text-decoration-color: #00d7ff\">None</span>, <span style=\"color: #00af00; text-decoration-color: #00af00\">26</span>, <span style=\"color: #00af00; text-decoration-color: #00af00\">26</span>, <span style=\"color: #00af00; text-decoration-color: #00af00\">32</span>)     │           <span style=\"color: #00af00; text-decoration-color: #00af00\">320</span> │\n",
              "├─────────────────────────────────┼────────────────────────┼───────────────┤\n",
              "│ max_pooling2d (<span style=\"color: #0087ff; text-decoration-color: #0087ff\">MaxPooling2D</span>)    │ (<span style=\"color: #00d7ff; text-decoration-color: #00d7ff\">None</span>, <span style=\"color: #00af00; text-decoration-color: #00af00\">13</span>, <span style=\"color: #00af00; text-decoration-color: #00af00\">13</span>, <span style=\"color: #00af00; text-decoration-color: #00af00\">32</span>)     │             <span style=\"color: #00af00; text-decoration-color: #00af00\">0</span> │\n",
              "├─────────────────────────────────┼────────────────────────┼───────────────┤\n",
              "│ conv2d_1 (<span style=\"color: #0087ff; text-decoration-color: #0087ff\">Conv2D</span>)               │ (<span style=\"color: #00d7ff; text-decoration-color: #00d7ff\">None</span>, <span style=\"color: #00af00; text-decoration-color: #00af00\">11</span>, <span style=\"color: #00af00; text-decoration-color: #00af00\">11</span>, <span style=\"color: #00af00; text-decoration-color: #00af00\">64</span>)     │        <span style=\"color: #00af00; text-decoration-color: #00af00\">18,496</span> │\n",
              "├─────────────────────────────────┼────────────────────────┼───────────────┤\n",
              "│ max_pooling2d_1 (<span style=\"color: #0087ff; text-decoration-color: #0087ff\">MaxPooling2D</span>)  │ (<span style=\"color: #00d7ff; text-decoration-color: #00d7ff\">None</span>, <span style=\"color: #00af00; text-decoration-color: #00af00\">5</span>, <span style=\"color: #00af00; text-decoration-color: #00af00\">5</span>, <span style=\"color: #00af00; text-decoration-color: #00af00\">64</span>)       │             <span style=\"color: #00af00; text-decoration-color: #00af00\">0</span> │\n",
              "├─────────────────────────────────┼────────────────────────┼───────────────┤\n",
              "│ flatten (<span style=\"color: #0087ff; text-decoration-color: #0087ff\">Flatten</span>)               │ (<span style=\"color: #00d7ff; text-decoration-color: #00d7ff\">None</span>, <span style=\"color: #00af00; text-decoration-color: #00af00\">1600</span>)           │             <span style=\"color: #00af00; text-decoration-color: #00af00\">0</span> │\n",
              "├─────────────────────────────────┼────────────────────────┼───────────────┤\n",
              "│ dense (<span style=\"color: #0087ff; text-decoration-color: #0087ff\">Dense</span>)                   │ (<span style=\"color: #00d7ff; text-decoration-color: #00d7ff\">None</span>, <span style=\"color: #00af00; text-decoration-color: #00af00\">128</span>)            │       <span style=\"color: #00af00; text-decoration-color: #00af00\">204,928</span> │\n",
              "├─────────────────────────────────┼────────────────────────┼───────────────┤\n",
              "│ dropout (<span style=\"color: #0087ff; text-decoration-color: #0087ff\">Dropout</span>)               │ (<span style=\"color: #00d7ff; text-decoration-color: #00d7ff\">None</span>, <span style=\"color: #00af00; text-decoration-color: #00af00\">128</span>)            │             <span style=\"color: #00af00; text-decoration-color: #00af00\">0</span> │\n",
              "├─────────────────────────────────┼────────────────────────┼───────────────┤\n",
              "│ dense_1 (<span style=\"color: #0087ff; text-decoration-color: #0087ff\">Dense</span>)                 │ (<span style=\"color: #00d7ff; text-decoration-color: #00d7ff\">None</span>, <span style=\"color: #00af00; text-decoration-color: #00af00\">10</span>)             │         <span style=\"color: #00af00; text-decoration-color: #00af00\">1,290</span> │\n",
              "└─────────────────────────────────┴────────────────────────┴───────────────┘\n",
              "</pre>\n"
            ]
          },
          "metadata": {}
        },
        {
          "output_type": "display_data",
          "data": {
            "text/plain": [
              "\u001b[1m Total params: \u001b[0m\u001b[38;5;34m225,034\u001b[0m (879.04 KB)\n"
            ],
            "text/html": [
              "<pre style=\"white-space:pre;overflow-x:auto;line-height:normal;font-family:Menlo,'DejaVu Sans Mono',consolas,'Courier New',monospace\"><span style=\"font-weight: bold\"> Total params: </span><span style=\"color: #00af00; text-decoration-color: #00af00\">225,034</span> (879.04 KB)\n",
              "</pre>\n"
            ]
          },
          "metadata": {}
        },
        {
          "output_type": "display_data",
          "data": {
            "text/plain": [
              "\u001b[1m Trainable params: \u001b[0m\u001b[38;5;34m225,034\u001b[0m (879.04 KB)\n"
            ],
            "text/html": [
              "<pre style=\"white-space:pre;overflow-x:auto;line-height:normal;font-family:Menlo,'DejaVu Sans Mono',consolas,'Courier New',monospace\"><span style=\"font-weight: bold\"> Trainable params: </span><span style=\"color: #00af00; text-decoration-color: #00af00\">225,034</span> (879.04 KB)\n",
              "</pre>\n"
            ]
          },
          "metadata": {}
        },
        {
          "output_type": "display_data",
          "data": {
            "text/plain": [
              "\u001b[1m Non-trainable params: \u001b[0m\u001b[38;5;34m0\u001b[0m (0.00 B)\n"
            ],
            "text/html": [
              "<pre style=\"white-space:pre;overflow-x:auto;line-height:normal;font-family:Menlo,'DejaVu Sans Mono',consolas,'Courier New',monospace\"><span style=\"font-weight: bold\"> Non-trainable params: </span><span style=\"color: #00af00; text-decoration-color: #00af00\">0</span> (0.00 B)\n",
              "</pre>\n"
            ]
          },
          "metadata": {}
        }
      ],
      "source": [
        "model = Sequential([\n",
        "    Conv2D(32, (3,3), activation='relu', input_shape=(28,28,1)),\n",
        "    MaxPooling2D((2,2)),\n",
        "    Conv2D(64, (3,3), activation='relu'),\n",
        "    MaxPooling2D((2,2)),\n",
        "    Flatten(),\n",
        "    Dense(128, activation='relu'),\n",
        "    Dropout(0.5),\n",
        "    Dense(10, activation='softmax')  # 10 digits (0–9)\n",
        "])\n",
        "\n",
        "model.compile(optimizer='adam',\n",
        "              loss='sparse_categorical_crossentropy',\n",
        "              metrics=['accuracy'])\n",
        "\n",
        "model.summary()\n"
      ]
    },
    {
      "cell_type": "code",
      "execution_count": null,
      "metadata": {
        "colab": {
          "base_uri": "https://localhost:8080/"
        },
        "id": "Vyx9WByONKNO",
        "outputId": "26b9476d-7b3a-4c80-91bb-d2b57097957f"
      },
      "outputs": [
        {
          "output_type": "stream",
          "name": "stdout",
          "text": [
            "Epoch 1/8\n",
            "\u001b[1m938/938\u001b[0m \u001b[32m━━━━━━━━━━━━━━━━━━━━\u001b[0m\u001b[37m\u001b[0m \u001b[1m58s\u001b[0m 59ms/step - accuracy: 0.8438 - loss: 0.4901 - val_accuracy: 0.9832 - val_loss: 0.0508\n",
            "Epoch 2/8\n",
            "\u001b[1m938/938\u001b[0m \u001b[32m━━━━━━━━━━━━━━━━━━━━\u001b[0m\u001b[37m\u001b[0m \u001b[1m76s\u001b[0m 53ms/step - accuracy: 0.9749 - loss: 0.0837 - val_accuracy: 0.9865 - val_loss: 0.0375\n",
            "Epoch 3/8\n",
            "\u001b[1m938/938\u001b[0m \u001b[32m━━━━━━━━━━━━━━━━━━━━\u001b[0m\u001b[37m\u001b[0m \u001b[1m81s\u001b[0m 52ms/step - accuracy: 0.9823 - loss: 0.0600 - val_accuracy: 0.9888 - val_loss: 0.0320\n",
            "Epoch 4/8\n",
            "\u001b[1m938/938\u001b[0m \u001b[32m━━━━━━━━━━━━━━━━━━━━\u001b[0m\u001b[37m\u001b[0m \u001b[1m83s\u001b[0m 54ms/step - accuracy: 0.9856 - loss: 0.0460 - val_accuracy: 0.9900 - val_loss: 0.0305\n",
            "Epoch 5/8\n",
            "\u001b[1m938/938\u001b[0m \u001b[32m━━━━━━━━━━━━━━━━━━━━\u001b[0m\u001b[37m\u001b[0m \u001b[1m81s\u001b[0m 53ms/step - accuracy: 0.9876 - loss: 0.0404 - val_accuracy: 0.9912 - val_loss: 0.0263\n",
            "Epoch 6/8\n",
            "\u001b[1m938/938\u001b[0m \u001b[32m━━━━━━━━━━━━━━━━━━━━\u001b[0m\u001b[37m\u001b[0m \u001b[1m52s\u001b[0m 55ms/step - accuracy: 0.9898 - loss: 0.0333 - val_accuracy: 0.9915 - val_loss: 0.0290\n",
            "Epoch 7/8\n",
            "\u001b[1m938/938\u001b[0m \u001b[32m━━━━━━━━━━━━━━━━━━━━\u001b[0m\u001b[37m\u001b[0m \u001b[1m80s\u001b[0m 53ms/step - accuracy: 0.9919 - loss: 0.0268 - val_accuracy: 0.9913 - val_loss: 0.0263\n",
            "Epoch 8/8\n",
            "\u001b[1m938/938\u001b[0m \u001b[32m━━━━━━━━━━━━━━━━━━━━\u001b[0m\u001b[37m\u001b[0m \u001b[1m81s\u001b[0m 52ms/step - accuracy: 0.9919 - loss: 0.0239 - val_accuracy: 0.9914 - val_loss: 0.0247\n"
          ]
        }
      ],
      "source": [
        "history = model.fit(x_train, y_train,\n",
        "                    epochs=8,\n",
        "                    batch_size=64,\n",
        "                    validation_data=(x_test, y_test))\n"
      ]
    },
    {
      "cell_type": "code",
      "execution_count": null,
      "metadata": {
        "colab": {
          "base_uri": "https://localhost:8080/"
        },
        "id": "fQtuI1AVPZ_M",
        "outputId": "35526a0c-8f94-4f52-ed28-c1436e7c2584"
      },
      "outputs": [
        {
          "output_type": "stream",
          "name": "stdout",
          "text": [
            "313/313 - 2s - 8ms/step - accuracy: 0.9914 - loss: 0.0247\n",
            "Test accuracy: 0.9914000034332275\n"
          ]
        }
      ],
      "source": [
        "test_loss, test_acc = model.evaluate(x_test, y_test, verbose=2)\n",
        "print(\"Test accuracy:\", test_acc)\n"
      ]
    },
    {
      "cell_type": "code",
      "source": [
        "import numpy as np\n",
        "from PIL import Image, ImageOps\n",
        "import matplotlib.pyplot as plt\n",
        "from tensorflow.keras.models import load_model\n",
        "from google.colab import files\n",
        "\n",
        "# 1. Load the trained model\n",
        "model = load_model(\"mnist_cnn.h5\")\n",
        "\n",
        "# 2. Upload an image\n",
        "uploaded = files.upload()\n",
        "\n",
        "for filename in uploaded.keys():\n",
        "    img_path = filename\n",
        "\n",
        "    # 3. Preprocess the image\n",
        "    img = Image.open(img_path).convert(\"L\")   # grayscale\n",
        "    img = ImageOps.invert(img)                # invert (MNIST digits are white on black)\n",
        "    img = img.resize((28, 28))                # resize to 28x28\n",
        "\n",
        "    img_array = np.array(img).astype(\"float32\") / 255.0\n",
        "    img_array = img_array.reshape(1, 28, 28, 1)\n",
        "\n",
        "    # 4. Predict\n",
        "    prediction = model.predict(img_array)\n",
        "    predicted_digit = np.argmax(prediction)\n",
        "\n",
        "    # 5. Show result\n",
        "    plt.imshow(img, cmap=\"gray\")\n",
        "    plt.title(f\"Predicted: {predicted_digit}\")\n",
        "    plt.axis(\"off\")\n",
        "    plt.show()\n",
        "\n",
        "    print(\"Predicted digit:\", predicted_digit)\n"
      ],
      "metadata": {
        "colab": {
          "base_uri": "https://localhost:8080/",
          "height": 555
        },
        "id": "rYU9esp8Xz_c",
        "outputId": "fe02888e-63df-47de-d9d7-05ac2a4e1f76"
      },
      "execution_count": null,
      "outputs": [
        {
          "output_type": "stream",
          "name": "stderr",
          "text": [
            "WARNING:absl:Compiled the loaded model, but the compiled metrics have yet to be built. `model.compile_metrics` will be empty until you train or evaluate the model.\n"
          ]
        },
        {
          "output_type": "display_data",
          "data": {
            "text/plain": [
              "<IPython.core.display.HTML object>"
            ],
            "text/html": [
              "\n",
              "     <input type=\"file\" id=\"files-95c4e339-d045-4e30-b177-e0e8f39207ed\" name=\"files[]\" multiple disabled\n",
              "        style=\"border:none\" />\n",
              "     <output id=\"result-95c4e339-d045-4e30-b177-e0e8f39207ed\">\n",
              "      Upload widget is only available when the cell has been executed in the\n",
              "      current browser session. Please rerun this cell to enable.\n",
              "      </output>\n",
              "      <script>// Copyright 2017 Google LLC\n",
              "//\n",
              "// Licensed under the Apache License, Version 2.0 (the \"License\");\n",
              "// you may not use this file except in compliance with the License.\n",
              "// You may obtain a copy of the License at\n",
              "//\n",
              "//      http://www.apache.org/licenses/LICENSE-2.0\n",
              "//\n",
              "// Unless required by applicable law or agreed to in writing, software\n",
              "// distributed under the License is distributed on an \"AS IS\" BASIS,\n",
              "// WITHOUT WARRANTIES OR CONDITIONS OF ANY KIND, either express or implied.\n",
              "// See the License for the specific language governing permissions and\n",
              "// limitations under the License.\n",
              "\n",
              "/**\n",
              " * @fileoverview Helpers for google.colab Python module.\n",
              " */\n",
              "(function(scope) {\n",
              "function span(text, styleAttributes = {}) {\n",
              "  const element = document.createElement('span');\n",
              "  element.textContent = text;\n",
              "  for (const key of Object.keys(styleAttributes)) {\n",
              "    element.style[key] = styleAttributes[key];\n",
              "  }\n",
              "  return element;\n",
              "}\n",
              "\n",
              "// Max number of bytes which will be uploaded at a time.\n",
              "const MAX_PAYLOAD_SIZE = 100 * 1024;\n",
              "\n",
              "function _uploadFiles(inputId, outputId) {\n",
              "  const steps = uploadFilesStep(inputId, outputId);\n",
              "  const outputElement = document.getElementById(outputId);\n",
              "  // Cache steps on the outputElement to make it available for the next call\n",
              "  // to uploadFilesContinue from Python.\n",
              "  outputElement.steps = steps;\n",
              "\n",
              "  return _uploadFilesContinue(outputId);\n",
              "}\n",
              "\n",
              "// This is roughly an async generator (not supported in the browser yet),\n",
              "// where there are multiple asynchronous steps and the Python side is going\n",
              "// to poll for completion of each step.\n",
              "// This uses a Promise to block the python side on completion of each step,\n",
              "// then passes the result of the previous step as the input to the next step.\n",
              "function _uploadFilesContinue(outputId) {\n",
              "  const outputElement = document.getElementById(outputId);\n",
              "  const steps = outputElement.steps;\n",
              "\n",
              "  const next = steps.next(outputElement.lastPromiseValue);\n",
              "  return Promise.resolve(next.value.promise).then((value) => {\n",
              "    // Cache the last promise value to make it available to the next\n",
              "    // step of the generator.\n",
              "    outputElement.lastPromiseValue = value;\n",
              "    return next.value.response;\n",
              "  });\n",
              "}\n",
              "\n",
              "/**\n",
              " * Generator function which is called between each async step of the upload\n",
              " * process.\n",
              " * @param {string} inputId Element ID of the input file picker element.\n",
              " * @param {string} outputId Element ID of the output display.\n",
              " * @return {!Iterable<!Object>} Iterable of next steps.\n",
              " */\n",
              "function* uploadFilesStep(inputId, outputId) {\n",
              "  const inputElement = document.getElementById(inputId);\n",
              "  inputElement.disabled = false;\n",
              "\n",
              "  const outputElement = document.getElementById(outputId);\n",
              "  outputElement.innerHTML = '';\n",
              "\n",
              "  const pickedPromise = new Promise((resolve) => {\n",
              "    inputElement.addEventListener('change', (e) => {\n",
              "      resolve(e.target.files);\n",
              "    });\n",
              "  });\n",
              "\n",
              "  const cancel = document.createElement('button');\n",
              "  inputElement.parentElement.appendChild(cancel);\n",
              "  cancel.textContent = 'Cancel upload';\n",
              "  const cancelPromise = new Promise((resolve) => {\n",
              "    cancel.onclick = () => {\n",
              "      resolve(null);\n",
              "    };\n",
              "  });\n",
              "\n",
              "  // Wait for the user to pick the files.\n",
              "  const files = yield {\n",
              "    promise: Promise.race([pickedPromise, cancelPromise]),\n",
              "    response: {\n",
              "      action: 'starting',\n",
              "    }\n",
              "  };\n",
              "\n",
              "  cancel.remove();\n",
              "\n",
              "  // Disable the input element since further picks are not allowed.\n",
              "  inputElement.disabled = true;\n",
              "\n",
              "  if (!files) {\n",
              "    return {\n",
              "      response: {\n",
              "        action: 'complete',\n",
              "      }\n",
              "    };\n",
              "  }\n",
              "\n",
              "  for (const file of files) {\n",
              "    const li = document.createElement('li');\n",
              "    li.append(span(file.name, {fontWeight: 'bold'}));\n",
              "    li.append(span(\n",
              "        `(${file.type || 'n/a'}) - ${file.size} bytes, ` +\n",
              "        `last modified: ${\n",
              "            file.lastModifiedDate ? file.lastModifiedDate.toLocaleDateString() :\n",
              "                                    'n/a'} - `));\n",
              "    const percent = span('0% done');\n",
              "    li.appendChild(percent);\n",
              "\n",
              "    outputElement.appendChild(li);\n",
              "\n",
              "    const fileDataPromise = new Promise((resolve) => {\n",
              "      const reader = new FileReader();\n",
              "      reader.onload = (e) => {\n",
              "        resolve(e.target.result);\n",
              "      };\n",
              "      reader.readAsArrayBuffer(file);\n",
              "    });\n",
              "    // Wait for the data to be ready.\n",
              "    let fileData = yield {\n",
              "      promise: fileDataPromise,\n",
              "      response: {\n",
              "        action: 'continue',\n",
              "      }\n",
              "    };\n",
              "\n",
              "    // Use a chunked sending to avoid message size limits. See b/62115660.\n",
              "    let position = 0;\n",
              "    do {\n",
              "      const length = Math.min(fileData.byteLength - position, MAX_PAYLOAD_SIZE);\n",
              "      const chunk = new Uint8Array(fileData, position, length);\n",
              "      position += length;\n",
              "\n",
              "      const base64 = btoa(String.fromCharCode.apply(null, chunk));\n",
              "      yield {\n",
              "        response: {\n",
              "          action: 'append',\n",
              "          file: file.name,\n",
              "          data: base64,\n",
              "        },\n",
              "      };\n",
              "\n",
              "      let percentDone = fileData.byteLength === 0 ?\n",
              "          100 :\n",
              "          Math.round((position / fileData.byteLength) * 100);\n",
              "      percent.textContent = `${percentDone}% done`;\n",
              "\n",
              "    } while (position < fileData.byteLength);\n",
              "  }\n",
              "\n",
              "  // All done.\n",
              "  yield {\n",
              "    response: {\n",
              "      action: 'complete',\n",
              "    }\n",
              "  };\n",
              "}\n",
              "\n",
              "scope.google = scope.google || {};\n",
              "scope.google.colab = scope.google.colab || {};\n",
              "scope.google.colab._files = {\n",
              "  _uploadFiles,\n",
              "  _uploadFilesContinue,\n",
              "};\n",
              "})(self);\n",
              "</script> "
            ]
          },
          "metadata": {}
        },
        {
          "output_type": "stream",
          "name": "stdout",
          "text": [
            "Saving 3new.jpg to 3new (1).jpg\n",
            "\u001b[1m1/1\u001b[0m \u001b[32m━━━━━━━━━━━━━━━━━━━━\u001b[0m\u001b[37m\u001b[0m \u001b[1m0s\u001b[0m 98ms/step\n"
          ]
        },
        {
          "output_type": "display_data",
          "data": {
            "text/plain": [
              "<Figure size 640x480 with 1 Axes>"
            ],
            "image/png": "[encoded data removed]"
          },
          "metadata": {}
        },
        {
          "output_type": "stream",
          "name": "stdout",
          "text": [
            "Predicted digit: 3\n"
          ]
        }
      ]
    },
    {
      "cell_type": "code",
      "source": [
        "from google.colab import files\n",
        "uploaded = files.upload()  # choose your mnist_cnn.h5 again\n"
      ],
      "metadata": {
        "colab": {
          "base_uri": "https://localhost:8080/",
          "height": 72
        },
        "id": "KsWRcRIbaiqb",
        "outputId": "857bdcb6-ab21-421b-aaf0-adf3d9d19c9f"
      },
      "execution_count": null,
      "outputs": [
        {
          "output_type": "display_data",
          "data": {
            "text/plain": [
              "<IPython.core.display.HTML object>"
            ],
            "text/html": [
              "\n",
              "     <input type=\"file\" id=\"files-afa1011b-8813-4375-ac7d-7beef5da1be9\" name=\"files[]\" multiple disabled\n",
              "        style=\"border:none\" />\n",
              "     <output id=\"result-afa1011b-8813-4375-ac7d-7beef5da1be9\">\n",
              "      Upload widget is only available when the cell has been executed in the\n",
              "      current browser session. Please rerun this cell to enable.\n",
              "      </output>\n",
              "      <script>// Copyright 2017 Google LLC\n",
              "//\n",
              "// Licensed under the Apache License, Version 2.0 (the \"License\");\n",
              "// you may not use this file except in compliance with the License.\n",
              "// You may obtain a copy of the License at\n",
              "//\n",
              "//      http://www.apache.org/licenses/LICENSE-2.0\n",
              "//\n",
              "// Unless required by applicable law or agreed to in writing, software\n",
              "// distributed under the License is distributed on an \"AS IS\" BASIS,\n",
              "// WITHOUT WARRANTIES OR CONDITIONS OF ANY KIND, either express or implied.\n",
              "// See the License for the specific language governing permissions and\n",
              "// limitations under the License.\n",
              "\n",
              "/**\n",
              " * @fileoverview Helpers for google.colab Python module.\n",
              " */\n",
              "(function(scope) {\n",
              "function span(text, styleAttributes = {}) {\n",
              "  const element = document.createElement('span');\n",
              "  element.textContent = text;\n",
              "  for (const key of Object.keys(styleAttributes)) {\n",
              "    element.style[key] = styleAttributes[key];\n",
              "  }\n",
              "  return element;\n",
              "}\n",
              "\n",
              "// Max number of bytes which will be uploaded at a time.\n",
              "const MAX_PAYLOAD_SIZE = 100 * 1024;\n",
              "\n",
              "function _uploadFiles(inputId, outputId) {\n",
              "  const steps = uploadFilesStep(inputId, outputId);\n",
              "  const outputElement = document.getElementById(outputId);\n",
              "  // Cache steps on the outputElement to make it available for the next call\n",
              "  // to uploadFilesContinue from Python.\n",
              "  outputElement.steps = steps;\n",
              "\n",
              "  return _uploadFilesContinue(outputId);\n",
              "}\n",
              "\n",
              "// This is roughly an async generator (not supported in the browser yet),\n",
              "// where there are multiple asynchronous steps and the Python side is going\n",
              "// to poll for completion of each step.\n",
              "// This uses a Promise to block the python side on completion of each step,\n",
              "// then passes the result of the previous step as the input to the next step.\n",
              "function _uploadFilesContinue(outputId) {\n",
              "  const outputElement = document.getElementById(outputId);\n",
              "  const steps = outputElement.steps;\n",
              "\n",
              "  const next = steps.next(outputElement.lastPromiseValue);\n",
              "  return Promise.resolve(next.value.promise).then((value) => {\n",
              "    // Cache the last promise value to make it available to the next\n",
              "    // step of the generator.\n",
              "    outputElement.lastPromiseValue = value;\n",
              "    return next.value.response;\n",
              "  });\n",
              "}\n",
              "\n",
              "/**\n",
              " * Generator function which is called between each async step of the upload\n",
              " * process.\n",
              " * @param {string} inputId Element ID of the input file picker element.\n",
              " * @param {string} outputId Element ID of the output display.\n",
              " * @return {!Iterable<!Object>} Iterable of next steps.\n",
              " */\n",
              "function* uploadFilesStep(inputId, outputId) {\n",
              "  const inputElement = document.getElementById(inputId);\n",
              "  inputElement.disabled = false;\n",
              "\n",
              "  const outputElement = document.getElementById(outputId);\n",
              "  outputElement.innerHTML = '';\n",
              "\n",
              "  const pickedPromise = new Promise((resolve) => {\n",
              "    inputElement.addEventListener('change', (e) => {\n",
              "      resolve(e.target.files);\n",
              "    });\n",
              "  });\n",
              "\n",
              "  const cancel = document.createElement('button');\n",
              "  inputElement.parentElement.appendChild(cancel);\n",
              "  cancel.textContent = 'Cancel upload';\n",
              "  const cancelPromise = new Promise((resolve) => {\n",
              "    cancel.onclick = () => {\n",
              "      resolve(null);\n",
              "    };\n",
              "  });\n",
              "\n",
              "  // Wait for the user to pick the files.\n",
              "  const files = yield {\n",
              "    promise: Promise.race([pickedPromise, cancelPromise]),\n",
              "    response: {\n",
              "      action: 'starting',\n",
              "    }\n",
              "  };\n",
              "\n",
              "  cancel.remove();\n",
              "\n",
              "  // Disable the input element since further picks are not allowed.\n",
              "  inputElement.disabled = true;\n",
              "\n",
              "  if (!files) {\n",
              "    return {\n",
              "      response: {\n",
              "        action: 'complete',\n",
              "      }\n",
              "    };\n",
              "  }\n",
              "\n",
              "  for (const file of files) {\n",
              "    const li = document.createElement('li');\n",
              "    li.append(span(file.name, {fontWeight: 'bold'}));\n",
              "    li.append(span(\n",
              "        `(${file.type || 'n/a'}) - ${file.size} bytes, ` +\n",
              "        `last modified: ${\n",
              "            file.lastModifiedDate ? file.lastModifiedDate.toLocaleDateString() :\n",
              "                                    'n/a'} - `));\n",
              "    const percent = span('0% done');\n",
              "    li.appendChild(percent);\n",
              "\n",
              "    outputElement.appendChild(li);\n",
              "\n",
              "    const fileDataPromise = new Promise((resolve) => {\n",
              "      const reader = new FileReader();\n",
              "      reader.onload = (e) => {\n",
              "        resolve(e.target.result);\n",
              "      };\n",
              "      reader.readAsArrayBuffer(file);\n",
              "    });\n",
              "    // Wait for the data to be ready.\n",
              "    let fileData = yield {\n",
              "      promise: fileDataPromise,\n",
              "      response: {\n",
              "        action: 'continue',\n",
              "      }\n",
              "    };\n",
              "\n",
              "    // Use a chunked sending to avoid message size limits. See b/62115660.\n",
              "    let position = 0;\n",
              "    do {\n",
              "      const length = Math.min(fileData.byteLength - position, MAX_PAYLOAD_SIZE);\n",
              "      const chunk = new Uint8Array(fileData, position, length);\n",
              "      position += length;\n",
              "\n",
              "      const base64 = btoa(String.fromCharCode.apply(null, chunk));\n",
              "      yield {\n",
              "        response: {\n",
              "          action: 'append',\n",
              "          file: file.name,\n",
              "          data: base64,\n",
              "        },\n",
              "      };\n",
              "\n",
              "      let percentDone = fileData.byteLength === 0 ?\n",
              "          100 :\n",
              "          Math.round((position / fileData.byteLength) * 100);\n",
              "      percent.textContent = `${percentDone}% done`;\n",
              "\n",
              "    } while (position < fileData.byteLength);\n",
              "  }\n",
              "\n",
              "  // All done.\n",
              "  yield {\n",
              "    response: {\n",
              "      action: 'complete',\n",
              "    }\n",
              "  };\n",
              "}\n",
              "\n",
              "scope.google = scope.google || {};\n",
              "scope.google.colab = scope.google.colab || {};\n",
              "scope.google.colab._files = {\n",
              "  _uploadFiles,\n",
              "  _uploadFilesContinue,\n",
              "};\n",
              "})(self);\n",
              "</script> "
            ]
          },
          "metadata": {}
        },
        {
          "output_type": "stream",
          "name": "stdout",
          "text": [
            "Saving mnist_cnn (1).h5 to mnist_cnn (1).h5\n"
          ]
        }
      ]
    },
    {
      "cell_type": "code",
      "execution_count": null,
      "metadata": {
        "colab": {
          "base_uri": "https://localhost:8080/",
          "height": 1000
        },
        "id": "rMOd4s5zPlUF",
        "outputId": "55346a85-7ca7-4379-dc2b-9712d6f8dbf9"
      },
      "outputs": [
        {
          "name": "stdout",
          "output_type": "stream",
          "text": [
            "\u001b[1m1/1\u001b[0m \u001b[32m━━━━━━━━━━━━━━━━━━━━\u001b[0m\u001b[37m\u001b[0m \u001b[1m0s\u001b[0m 155ms/step\n"
          ]
        },
        {
          "data": {
            "image/png": "[encoded data removed]",
            "text/plain": [
              "<Figure size 640x480 with 1 Axes>"
            ]
          },
          "metadata": {},
          "output_type": "display_data"
        },
        {
          "data": {
            "image/png": "[encoded data removed]",
            "text/plain": [
              "<Figure size 640x480 with 1 Axes>"
            ]
          },
          "metadata": {},
          "output_type": "display_data"
        },
        {
          "data": {
            "image/png": "[encoded data removed]",
            "text/plain": [
              "<Figure size 640x480 with 1 Axes>"
            ]
          },
          "metadata": {},
          "output_type": "display_data"
        },
        {
          "data": {
            "image/png": "[encoded data removed]",
            "text/plain": [
              "<Figure size 640x480 with 1 Axes>"
            ]
          },
          "metadata": {},
          "output_type": "display_data"
        },
        {
          "data": {
            "image/png": "[encoded data removed]",
            "text/plain": [
              "<Figure size 640x480 with 1 Axes>"
            ]
          },
          "metadata": {},
          "output_type": "display_data"
        }
      ],
      "source": [
        "predictions = model.predict(x_test[:5])\n",
        "\n",
        "for i in range(5):\n",
        "    plt.imshow(x_test[i].reshape(28,28), cmap=\"gray\")\n",
        "    plt.title(f\"Predicted: {np.argmax(predictions[i])}, Actual: {y_test[i]}\")\n",
        "    plt.show()\n"
      ]
    },
    {
      "cell_type": "code",
      "execution_count": null,
      "metadata": {
        "colab": {
          "base_uri": "https://localhost:8080/",
          "height": 54
        },
        "id": "WQdkW03FPmiI",
        "outputId": "b7340c1d-518b-407e-f0cc-ae6fb86397b0"
      },
      "outputs": [
        {
          "name": "stderr",
          "output_type": "stream",
          "text": [
            "WARNING:absl:You are saving your model as an HDF5 file via `model.save()` or `keras.saving.save_model(model)`. This file format is considered legacy. We recommend using instead the native Keras format, e.g. `model.save('my_model.keras')` or `keras.saving.save_model(model, 'my_model.keras')`. \n"
          ]
        },
        {
          "data": {
            "application/javascript": [
              "\n",
              "    async function download(id, filename, size) {\n",
              "      if (!google.colab.kernel.accessAllowed) {\n",
              "        return;\n",
              "      }\n",
              "      const div = document.createElement('div');\n",
              "      const label = document.createElement('label');\n",
              "      label.textContent = `Downloading \"${filename}\": `;\n",
              "      div.appendChild(label);\n",
              "      const progress = document.createElement('progress');\n",
              "      progress.max = size;\n",
              "      div.appendChild(progress);\n",
              "      document.body.appendChild(div);\n",
              "\n",
              "      const buffers = [];\n",
              "      let downloaded = 0;\n",
              "\n",
              "      const channel = await google.colab.kernel.comms.open(id);\n",
              "      // Send a message to notify the kernel that we're ready.\n",
              "      channel.send({})\n",
              "\n",
              "      for await (const message of channel.messages) {\n",
              "        // Send a message to notify the kernel that we're ready.\n",
              "        channel.send({})\n",
              "        if (message.buffers) {\n",
              "          for (const buffer of message.buffers) {\n",
              "            buffers.push(buffer);\n",
              "            downloaded += buffer.byteLength;\n",
              "            progress.value = downloaded;\n",
              "          }\n",
              "        }\n",
              "      }\n",
              "      const blob = new Blob(buffers, {type: 'application/binary'});\n",
              "      const a = document.createElement('a');\n",
              "      a.href = window.URL.createObjectURL(blob);\n",
              "      a.download = filename;\n",
              "      div.appendChild(a);\n",
              "      a.click();\n",
              "      div.remove();\n",
              "    }\n",
              "  "
            ],
            "text/plain": [
              "<IPython.core.display.Javascript object>"
            ]
          },
          "metadata": {},
          "output_type": "display_data"
        },
        {
          "data": {
            "application/javascript": [
              "download(\"download_76bc0a0c-f374-4455-ac28-78a25927a3f4\", \"mnist_cnn.h5\", 2742848)"
            ],
            "text/plain": [
              "<IPython.core.display.Javascript object>"
            ]
          },
          "metadata": {},
          "output_type": "display_data"
        }
      ],
      "source": [
        "model.save(\"mnist_cnn.h5\")\n",
        "from google.colab import files\n",
        "files.download(\"mnist_cnn.h5\")\n"
      ]
    },
    {
      "cell_type": "code",
      "execution_count": null,
      "metadata": {
        "colab": {
          "base_uri": "https://localhost:8080/",
          "height": 72
        },
        "id": "8Uffpdiz9WL1",
        "outputId": "f596f793-35aa-4755-9efb-143a27c537a6"
      },
      "outputs": [
        {
          "data": {
            "text/html": [
              "\n",
              "     <input type=\"file\" id=\"files-ba07adfe-1673-4bef-a5d9-4a476dce03b8\" name=\"files[]\" multiple disabled\n",
              "        style=\"border:none\" />\n",
              "     <output id=\"result-ba07adfe-1673-4bef-a5d9-4a476dce03b8\">\n",
              "      Upload widget is only available when the cell has been executed in the\n",
              "      current browser session. Please rerun this cell to enable.\n",
              "      </output>\n",
              "      <script>// Copyright 2017 Google LLC\n",
              "//\n",
              "// Licensed under the Apache License, Version 2.0 (the \"License\");\n",
              "// you may not use this file except in compliance with the License.\n",
              "// You may obtain a copy of the License at\n",
              "//\n",
              "//      http://www.apache.org/licenses/LICENSE-2.0\n",
              "//\n",
              "// Unless required by applicable law or agreed to in writing, software\n",
              "// distributed under the License is distributed on an \"AS IS\" BASIS,\n",
              "// WITHOUT WARRANTIES OR CONDITIONS OF ANY KIND, either express or implied.\n",
              "// See the License for the specific language governing permissions and\n",
              "// limitations under the License.\n",
              "\n",
              "/**\n",
              " * @fileoverview Helpers for google.colab Python module.\n",
              " */\n",
              "(function(scope) {\n",
              "function span(text, styleAttributes = {}) {\n",
              "  const element = document.createElement('span');\n",
              "  element.textContent = text;\n",
              "  for (const key of Object.keys(styleAttributes)) {\n",
              "    element.style[key] = styleAttributes[key];\n",
              "  }\n",
              "  return element;\n",
              "}\n",
              "\n",
              "// Max number of bytes which will be uploaded at a time.\n",
              "const MAX_PAYLOAD_SIZE = 100 * 1024;\n",
              "\n",
              "function _uploadFiles(inputId, outputId) {\n",
              "  const steps = uploadFilesStep(inputId, outputId);\n",
              "  const outputElement = document.getElementById(outputId);\n",
              "  // Cache steps on the outputElement to make it available for the next call\n",
              "  // to uploadFilesContinue from Python.\n",
              "  outputElement.steps = steps;\n",
              "\n",
              "  return _uploadFilesContinue(outputId);\n",
              "}\n",
              "\n",
              "// This is roughly an async generator (not supported in the browser yet),\n",
              "// where there are multiple asynchronous steps and the Python side is going\n",
              "// to poll for completion of each step.\n",
              "// This uses a Promise to block the python side on completion of each step,\n",
              "// then passes the result of the previous step as the input to the next step.\n",
              "function _uploadFilesContinue(outputId) {\n",
              "  const outputElement = document.getElementById(outputId);\n",
              "  const steps = outputElement.steps;\n",
              "\n",
              "  const next = steps.next(outputElement.lastPromiseValue);\n",
              "  return Promise.resolve(next.value.promise).then((value) => {\n",
              "    // Cache the last promise value to make it available to the next\n",
              "    // step of the generator.\n",
              "    outputElement.lastPromiseValue = value;\n",
              "    return next.value.response;\n",
              "  });\n",
              "}\n",
              "\n",
              "/**\n",
              " * Generator function which is called between each async step of the upload\n",
              " * process.\n",
              " * @param {string} inputId Element ID of the input file picker element.\n",
              " * @param {string} outputId Element ID of the output display.\n",
              " * @return {!Iterable<!Object>} Iterable of next steps.\n",
              " */\n",
              "function* uploadFilesStep(inputId, outputId) {\n",
              "  const inputElement = document.getElementById(inputId);\n",
              "  inputElement.disabled = false;\n",
              "\n",
              "  const outputElement = document.getElementById(outputId);\n",
              "  outputElement.innerHTML = '';\n",
              "\n",
              "  const pickedPromise = new Promise((resolve) => {\n",
              "    inputElement.addEventListener('change', (e) => {\n",
              "      resolve(e.target.files);\n",
              "    });\n",
              "  });\n",
              "\n",
              "  const cancel = document.createElement('button');\n",
              "  inputElement.parentElement.appendChild(cancel);\n",
              "  cancel.textContent = 'Cancel upload';\n",
              "  const cancelPromise = new Promise((resolve) => {\n",
              "    cancel.onclick = () => {\n",
              "      resolve(null);\n",
              "    };\n",
              "  });\n",
              "\n",
              "  // Wait for the user to pick the files.\n",
              "  const files = yield {\n",
              "    promise: Promise.race([pickedPromise, cancelPromise]),\n",
              "    response: {\n",
              "      action: 'starting',\n",
              "    }\n",
              "  };\n",
              "\n",
              "  cancel.remove();\n",
              "\n",
              "  // Disable the input element since further picks are not allowed.\n",
              "  inputElement.disabled = true;\n",
              "\n",
              "  if (!files) {\n",
              "    return {\n",
              "      response: {\n",
              "        action: 'complete',\n",
              "      }\n",
              "    };\n",
              "  }\n",
              "\n",
              "  for (const file of files) {\n",
              "    const li = document.createElement('li');\n",
              "    li.append(span(file.name, {fontWeight: 'bold'}));\n",
              "    li.append(span(\n",
              "        `(${file.type || 'n/a'}) - ${file.size} bytes, ` +\n",
              "        `last modified: ${\n",
              "            file.lastModifiedDate ? file.lastModifiedDate.toLocaleDateString() :\n",
              "                                    'n/a'} - `));\n",
              "    const percent = span('0% done');\n",
              "    li.appendChild(percent);\n",
              "\n",
              "    outputElement.appendChild(li);\n",
              "\n",
              "    const fileDataPromise = new Promise((resolve) => {\n",
              "      const reader = new FileReader();\n",
              "      reader.onload = (e) => {\n",
              "        resolve(e.target.result);\n",
              "      };\n",
              "      reader.readAsArrayBuffer(file);\n",
              "    });\n",
              "    // Wait for the data to be ready.\n",
              "    let fileData = yield {\n",
              "      promise: fileDataPromise,\n",
              "      response: {\n",
              "        action: 'continue',\n",
              "      }\n",
              "    };\n",
              "\n",
              "    // Use a chunked sending to avoid message size limits. See b/62115660.\n",
              "    let position = 0;\n",
              "    do {\n",
              "      const length = Math.min(fileData.byteLength - position, MAX_PAYLOAD_SIZE);\n",
              "      const chunk = new Uint8Array(fileData, position, length);\n",
              "      position += length;\n",
              "\n",
              "      const base64 = btoa(String.fromCharCode.apply(null, chunk));\n",
              "      yield {\n",
              "        response: {\n",
              "          action: 'append',\n",
              "          file: file.name,\n",
              "          data: base64,\n",
              "        },\n",
              "      };\n",
              "\n",
              "      let percentDone = fileData.byteLength === 0 ?\n",
              "          100 :\n",
              "          Math.round((position / fileData.byteLength) * 100);\n",
              "      percent.textContent = `${percentDone}% done`;\n",
              "\n",
              "    } while (position < fileData.byteLength);\n",
              "  }\n",
              "\n",
              "  // All done.\n",
              "  yield {\n",
              "    response: {\n",
              "      action: 'complete',\n",
              "    }\n",
              "  };\n",
              "}\n",
              "\n",
              "scope.google = scope.google || {};\n",
              "scope.google.colab = scope.google.colab || {};\n",
              "scope.google.colab._files = {\n",
              "  _uploadFiles,\n",
              "  _uploadFilesContinue,\n",
              "};\n",
              "})(self);\n",
              "</script> "
            ],
            "text/plain": [
              "<IPython.core.display.HTML object>"
            ]
          },
          "metadata": {},
          "output_type": "display_data"
        },
        {
          "name": "stdout",
          "output_type": "stream",
          "text": [
            "Saving 5.jpg to 5.jpg\n"
          ]
        }
      ],
      "source": [
        "from google.colab import files\n",
        "uploaded = files.upload()  # Choose your 5.jpg\n"
      ]
    },
    {
      "cell_type": "code",
      "execution_count": null,
      "metadata": {
        "colab": {
          "base_uri": "https://localhost:8080/",
          "height": 72
        },
        "id": "oyz8PMf_9kWZ",
        "outputId": "75f8d26e-78be-419a-b31a-09bc18904f0b"
      },
      "outputs": [
        {
          "data": {
            "text/html": [
              "\n",
              "     <input type=\"file\" id=\"files-446e3ff2-a879-417c-bfdc-f70acafcbc35\" name=\"files[]\" multiple disabled\n",
              "        style=\"border:none\" />\n",
              "     <output id=\"result-446e3ff2-a879-417c-bfdc-f70acafcbc35\">\n",
              "      Upload widget is only available when the cell has been executed in the\n",
              "      current browser session. Please rerun this cell to enable.\n",
              "      </output>\n",
              "      <script>// Copyright 2017 Google LLC\n",
              "//\n",
              "// Licensed under the Apache License, Version 2.0 (the \"License\");\n",
              "// you may not use this file except in compliance with the License.\n",
              "// You may obtain a copy of the License at\n",
              "//\n",
              "//      http://www.apache.org/licenses/LICENSE-2.0\n",
              "//\n",
              "// Unless required by applicable law or agreed to in writing, software\n",
              "// distributed under the License is distributed on an \"AS IS\" BASIS,\n",
              "// WITHOUT WARRANTIES OR CONDITIONS OF ANY KIND, either express or implied.\n",
              "// See the License for the specific language governing permissions and\n",
              "// limitations under the License.\n",
              "\n",
              "/**\n",
              " * @fileoverview Helpers for google.colab Python module.\n",
              " */\n",
              "(function(scope) {\n",
              "function span(text, styleAttributes = {}) {\n",
              "  const element = document.createElement('span');\n",
              "  element.textContent = text;\n",
              "  for (const key of Object.keys(styleAttributes)) {\n",
              "    element.style[key] = styleAttributes[key];\n",
              "  }\n",
              "  return element;\n",
              "}\n",
              "\n",
              "// Max number of bytes which will be uploaded at a time.\n",
              "const MAX_PAYLOAD_SIZE = 100 * 1024;\n",
              "\n",
              "function _uploadFiles(inputId, outputId) {\n",
              "  const steps = uploadFilesStep(inputId, outputId);\n",
              "  const outputElement = document.getElementById(outputId);\n",
              "  // Cache steps on the outputElement to make it available for the next call\n",
              "  // to uploadFilesContinue from Python.\n",
              "  outputElement.steps = steps;\n",
              "\n",
              "  return _uploadFilesContinue(outputId);\n",
              "}\n",
              "\n",
              "// This is roughly an async generator (not supported in the browser yet),\n",
              "// where there are multiple asynchronous steps and the Python side is going\n",
              "// to poll for completion of each step.\n",
              "// This uses a Promise to block the python side on completion of each step,\n",
              "// then passes the result of the previous step as the input to the next step.\n",
              "function _uploadFilesContinue(outputId) {\n",
              "  const outputElement = document.getElementById(outputId);\n",
              "  const steps = outputElement.steps;\n",
              "\n",
              "  const next = steps.next(outputElement.lastPromiseValue);\n",
              "  return Promise.resolve(next.value.promise).then((value) => {\n",
              "    // Cache the last promise value to make it available to the next\n",
              "    // step of the generator.\n",
              "    outputElement.lastPromiseValue = value;\n",
              "    return next.value.response;\n",
              "  });\n",
              "}\n",
              "\n",
              "/**\n",
              " * Generator function which is called between each async step of the upload\n",
              " * process.\n",
              " * @param {string} inputId Element ID of the input file picker element.\n",
              " * @param {string} outputId Element ID of the output display.\n",
              " * @return {!Iterable<!Object>} Iterable of next steps.\n",
              " */\n",
              "function* uploadFilesStep(inputId, outputId) {\n",
              "  const inputElement = document.getElementById(inputId);\n",
              "  inputElement.disabled = false;\n",
              "\n",
              "  const outputElement = document.getElementById(outputId);\n",
              "  outputElement.innerHTML = '';\n",
              "\n",
              "  const pickedPromise = new Promise((resolve) => {\n",
              "    inputElement.addEventListener('change', (e) => {\n",
              "      resolve(e.target.files);\n",
              "    });\n",
              "  });\n",
              "\n",
              "  const cancel = document.createElement('button');\n",
              "  inputElement.parentElement.appendChild(cancel);\n",
              "  cancel.textContent = 'Cancel upload';\n",
              "  const cancelPromise = new Promise((resolve) => {\n",
              "    cancel.onclick = () => {\n",
              "      resolve(null);\n",
              "    };\n",
              "  });\n",
              "\n",
              "  // Wait for the user to pick the files.\n",
              "  const files = yield {\n",
              "    promise: Promise.race([pickedPromise, cancelPromise]),\n",
              "    response: {\n",
              "      action: 'starting',\n",
              "    }\n",
              "  };\n",
              "\n",
              "  cancel.remove();\n",
              "\n",
              "  // Disable the input element since further picks are not allowed.\n",
              "  inputElement.disabled = true;\n",
              "\n",
              "  if (!files) {\n",
              "    return {\n",
              "      response: {\n",
              "        action: 'complete',\n",
              "      }\n",
              "    };\n",
              "  }\n",
              "\n",
              "  for (const file of files) {\n",
              "    const li = document.createElement('li');\n",
              "    li.append(span(file.name, {fontWeight: 'bold'}));\n",
              "    li.append(span(\n",
              "        `(${file.type || 'n/a'}) - ${file.size} bytes, ` +\n",
              "        `last modified: ${\n",
              "            file.lastModifiedDate ? file.lastModifiedDate.toLocaleDateString() :\n",
              "                                    'n/a'} - `));\n",
              "    const percent = span('0% done');\n",
              "    li.appendChild(percent);\n",
              "\n",
              "    outputElement.appendChild(li);\n",
              "\n",
              "    const fileDataPromise = new Promise((resolve) => {\n",
              "      const reader = new FileReader();\n",
              "      reader.onload = (e) => {\n",
              "        resolve(e.target.result);\n",
              "      };\n",
              "      reader.readAsArrayBuffer(file);\n",
              "    });\n",
              "    // Wait for the data to be ready.\n",
              "    let fileData = yield {\n",
              "      promise: fileDataPromise,\n",
              "      response: {\n",
              "        action: 'continue',\n",
              "      }\n",
              "    };\n",
              "\n",
              "    // Use a chunked sending to avoid message size limits. See b/62115660.\n",
              "    let position = 0;\n",
              "    do {\n",
              "      const length = Math.min(fileData.byteLength - position, MAX_PAYLOAD_SIZE);\n",
              "      const chunk = new Uint8Array(fileData, position, length);\n",
              "      position += length;\n",
              "\n",
              "      const base64 = btoa(String.fromCharCode.apply(null, chunk));\n",
              "      yield {\n",
              "        response: {\n",
              "          action: 'append',\n",
              "          file: file.name,\n",
              "          data: base64,\n",
              "        },\n",
              "      };\n",
              "\n",
              "      let percentDone = fileData.byteLength === 0 ?\n",
              "          100 :\n",
              "          Math.round((position / fileData.byteLength) * 100);\n",
              "      percent.textContent = `${percentDone}% done`;\n",
              "\n",
              "    } while (position < fileData.byteLength);\n",
              "  }\n",
              "\n",
              "  // All done.\n",
              "  yield {\n",
              "    response: {\n",
              "      action: 'complete',\n",
              "    }\n",
              "  };\n",
              "}\n",
              "\n",
              "scope.google = scope.google || {};\n",
              "scope.google.colab = scope.google.colab || {};\n",
              "scope.google.colab._files = {\n",
              "  _uploadFiles,\n",
              "  _uploadFilesContinue,\n",
              "};\n",
              "})(self);\n",
              "</script> "
            ],
            "text/plain": [
              "<IPython.core.display.HTML object>"
            ]
          },
          "metadata": {},
          "output_type": "display_data"
        },
        {
          "name": "stdout",
          "output_type": "stream",
          "text": [
            "Saving mnist_cnn.h5 to mnist_cnn.h5\n"
          ]
        }
      ],
      "source": [
        "from google.colab import files\n",
        "uploaded = files.upload()  # Select your mnist_cnn.keras or mnist_cnn.h5 file\n"
      ]
    },
    {
      "cell_type": "code",
      "execution_count": null,
      "metadata": {
        "colab": {
          "base_uri": "https://localhost:8080/"
        },
        "id": "3YYgQuIJ9x35",
        "outputId": "6b94a3cf-56ed-47fd-a6c7-23c3879a81bf"
      },
      "outputs": [
        {
          "name": "stderr",
          "output_type": "stream",
          "text": [
            "WARNING:absl:Compiled the loaded model, but the compiled metrics have yet to be built. `model.compile_metrics` will be empty until you train or evaluate the model.\n"
          ]
        }
      ],
      "source": [
        "from tensorflow import keras\n",
        "\n",
        "# Replace \"mnist_cnn.keras\" with the exact uploaded filename\n",
        "model = keras.models.load_model(\"mnist_cnn.h5\")\n"
      ]
    },
    {
      "cell_type": "code",
      "execution_count": null,
      "metadata": {
        "colab": {
          "base_uri": "https://localhost:8080/",
          "height": 500
        },
        "id": "VDhKiwcu91Kq",
        "outputId": "d7828578-c1e8-4c50-894c-0bdbde86ecbf"
      },
      "outputs": [
        {
          "name": "stderr",
          "output_type": "stream",
          "text": [
            "WARNING:absl:Compiled the loaded model, but the compiled metrics have yet to be built. `model.compile_metrics` will be empty until you train or evaluate the model.\n"
          ]
        },
        {
          "name": "stdout",
          "output_type": "stream",
          "text": [
            "\u001b[1m1/1\u001b[0m \u001b[32m━━━━━━━━━━━━━━━━━━━━\u001b[0m\u001b[37m\u001b[0m \u001b[1m0s\u001b[0m 206ms/step\n",
            "Predicted digit: 2\n"
          ]
        },
        {
          "data": {
            "image/png": "[encoded data removed]",
            "text/plain": [
              "<Figure size 640x480 with 1 Axes>"
            ]
          },
          "metadata": {},
          "output_type": "display_data"
        }
      ],
      "source": [
        "import cv2\n",
        "import numpy as np\n",
        "import matplotlib.pyplot as plt\n",
        "from tensorflow import keras\n",
        "\n",
        "# 1. Load your trained model\n",
        "model = keras.models.load_model(\"mnist_cnn.h5\")  # change to .h5 if you saved in h5 format\n",
        "\n",
        "# 2. Load input image (replace with your filename e.g. \"5.jpg\")\n",
        "img = cv2.imread(\"2.jpg\")\n",
        "\n",
        "# 3. Convert to grayscale\n",
        "gray = cv2.cvtColor(img, cv2.COLOR_BGR2GRAY)\n",
        "\n",
        "# 4. Denoise slightly (optional, helps with shadows/noise)\n",
        "gray = cv2.GaussianBlur(gray, (3, 3), 0)\n",
        "\n",
        "# 5. Threshold → Invert (to make digit white on black, like MNIST)\n",
        "_, thresh = cv2.threshold(gray, 128, 255, cv2.THRESH_BINARY_INV)\n",
        "\n",
        "# 6. Find and crop the largest contour (the digit)\n",
        "contours, _ = cv2.findContours(thresh, cv2.RETR_EXTERNAL, cv2.CHAIN_APPROX_SIMPLE)\n",
        "if contours:\n",
        "    x,y,w,h = cv2.boundingRect(max(contours, key=cv2.contourArea))\n",
        "    digit = thresh[y:y+h, x:x+w]\n",
        "else:\n",
        "    digit = thresh\n",
        "\n",
        "# 7. Resize while keeping aspect ratio\n",
        "digit = cv2.resize(digit, (18,18))  # shrink digit\n",
        "padded = np.pad(digit, ((5,5),(5,5)), \"constant\", constant_values=0)\n",
        "\n",
        "# 8. Normalize & reshape for model\n",
        "final = padded.astype(\"float32\") / 255.0\n",
        "final = final.reshape(1,28,28,1)\n",
        "\n",
        "# 9. Predict\n",
        "prediction = model.predict(final)\n",
        "predicted_digit = np.argmax(prediction)\n",
        "\n",
        "print(\"Predicted digit:\", predicted_digit)\n",
        "\n",
        "# 10. Show the processed image\n",
        "plt.imshow(padded, cmap=\"gray\")\n",
        "plt.title(f\"Processed Input (Model Prediction = {predicted_digit})\")\n",
        "plt.axis(\"off\")\n",
        "plt.show()\n"
      ]
    },
    {
      "cell_type": "code",
      "execution_count": null,
      "metadata": {
        "colab": {
          "base_uri": "https://localhost:8080/",
          "height": 500
        },
        "id": "QdX9PcdkT9mO",
        "outputId": "3a34ea1d-836d-46c2-94cc-a454c29292f4"
      },
      "outputs": [
        {
          "name": "stderr",
          "output_type": "stream",
          "text": [
            "WARNING:absl:Compiled the loaded model, but the compiled metrics have yet to be built. `model.compile_metrics` will be empty until you train or evaluate the model.\n"
          ]
        },
        {
          "name": "stdout",
          "output_type": "stream",
          "text": [
            "\u001b[1m1/1\u001b[0m \u001b[32m━━━━━━━━━━━━━━━━━━━━\u001b[0m\u001b[37m\u001b[0m \u001b[1m0s\u001b[0m 155ms/step\n",
            "Predicted digit: 3\n"
          ]
        },
        {
          "data": {
            "image/png": "[encoded data removed]",
            "text/plain": [
              "<Figure size 640x480 with 1 Axes>"
            ]
          },
          "metadata": {},
          "output_type": "display_data"
        }
      ],
      "source": [
        "import cv2\n",
        "import numpy as np\n",
        "import matplotlib.pyplot as plt\n",
        "from tensorflow import keras\n",
        "\n",
        "# 1. Load your trained model\n",
        "model = keras.models.load_model(\"mnist_cnn.h5\")  # change to .h5 if you saved in h5 format\n",
        "\n",
        "# 2. Load input image (replace with your filename e.g. \"5.jpg\")\n",
        "img = cv2.imread(\"3.jpg\")\n",
        "\n",
        "# 3. Convert to grayscale\n",
        "gray = cv2.cvtColor(img, cv2.COLOR_BGR2GRAY)\n",
        "\n",
        "# 4. Denoise slightly (optional, helps with shadows/noise)\n",
        "gray = cv2.GaussianBlur(gray, (3, 3), 0)\n",
        "\n",
        "# 5. Threshold → Invert (to make digit white on black, like MNIST)\n",
        "_, thresh = cv2.threshold(gray, 128, 255, cv2.THRESH_BINARY_INV)\n",
        "\n",
        "# 6. Find and crop the largest contour (the digit)\n",
        "contours, _ = cv2.findContours(thresh, cv2.RETR_EXTERNAL, cv2.CHAIN_APPROX_SIMPLE)\n",
        "if contours:\n",
        "    x,y,w,h = cv2.boundingRect(max(contours, key=cv2.contourArea))\n",
        "    digit = thresh[y:y+h, x:x+w]\n",
        "else:\n",
        "    digit = thresh\n",
        "\n",
        "# 7. Resize while keeping aspect ratio\n",
        "digit = cv2.resize(digit, (18,18))  # shrink digit\n",
        "padded = np.pad(digit, ((5,5),(5,5)), \"constant\", constant_values=0)\n",
        "\n",
        "# 8. Normalize & reshape for model\n",
        "final = padded.astype(\"float32\") / 255.0\n",
        "final = final.reshape(1,28,28,1)\n",
        "\n",
        "# 9. Predict\n",
        "prediction = model.predict(final)\n",
        "predicted_digit = np.argmax(prediction)\n",
        "\n",
        "print(\"Predicted digit:\", predicted_digit)\n",
        "\n",
        "# 10. Show the processed image\n",
        "plt.imshow(padded, cmap=\"gray\")\n",
        "plt.title(f\"Processed Input (Model Prediction = {predicted_digit})\")\n",
        "plt.axis(\"off\")\n",
        "plt.show()\n"
      ]
    },
    {
      "cell_type": "code",
      "execution_count": null,
      "metadata": {
        "colab": {
          "base_uri": "https://localhost:8080/",
          "height": 500
        },
        "id": "QYAfsn4PT_pi",
        "outputId": "f55fe083-d1b4-49f4-e90b-5f88fccf3c59"
      },
      "outputs": [
        {
          "name": "stderr",
          "output_type": "stream",
          "text": [
            "WARNING:absl:Compiled the loaded model, but the compiled metrics have yet to be built. `model.compile_metrics` will be empty until you train or evaluate the model.\n"
          ]
        },
        {
          "name": "stdout",
          "output_type": "stream",
          "text": [
            "\u001b[1m1/1\u001b[0m \u001b[32m━━━━━━━━━━━━━━━━━━━━\u001b[0m\u001b[37m\u001b[0m \u001b[1m0s\u001b[0m 95ms/step\n",
            "Predicted digit: 5\n"
          ]
        },
        {
          "data": {
            "image/png": "[encoded data removed]",
            "text/plain": [
              "<Figure size 640x480 with 1 Axes>"
            ]
          },
          "metadata": {},
          "output_type": "display_data"
        }
      ],
      "source": [
        "import cv2\n",
        "import numpy as np\n",
        "import matplotlib.pyplot as plt\n",
        "from tensorflow import keras\n",
        "\n",
        "# 1. Load your trained model\n",
        "model = keras.models.load_model(\"mnist_cnn.h5\")  # change to .h5 if you saved in h5 format\n",
        "\n",
        "# 2. Load input image (replace with your filename e.g. \"5.jpg\")\n",
        "img = cv2.imread(\"5.jpg\")\n",
        "\n",
        "# 3. Convert to grayscale\n",
        "gray = cv2.cvtColor(img, cv2.COLOR_BGR2GRAY)\n",
        "\n",
        "# 4. Denoise slightly (optional, helps with shadows/noise)\n",
        "gray = cv2.GaussianBlur(gray, (3, 3), 0)\n",
        "\n",
        "# 5. Threshold → Invert (to make digit white on black, like MNIST)\n",
        "_, thresh = cv2.threshold(gray, 128, 255, cv2.THRESH_BINARY_INV)\n",
        "\n",
        "# 6. Find and crop the largest contour (the digit)\n",
        "contours, _ = cv2.findContours(thresh, cv2.RETR_EXTERNAL, cv2.CHAIN_APPROX_SIMPLE)\n",
        "if contours:\n",
        "    x,y,w,h = cv2.boundingRect(max(contours, key=cv2.contourArea))\n",
        "    digit = thresh[y:y+h, x:x+w]\n",
        "else:\n",
        "    digit = thresh\n",
        "\n",
        "# 7. Resize while keeping aspect ratio\n",
        "digit = cv2.resize(digit, (18,18))  # shrink digit\n",
        "padded = np.pad(digit, ((5,5),(5,5)), \"constant\", constant_values=0)\n",
        "\n",
        "# 8. Normalize & reshape for model\n",
        "final = padded.astype(\"float32\") / 255.0\n",
        "final = final.reshape(1,28,28,1)\n",
        "\n",
        "# 9. Predict\n",
        "prediction = model.predict(final)\n",
        "predicted_digit = np.argmax(prediction)\n",
        "\n",
        "print(\"Predicted digit:\", predicted_digit)\n",
        "\n",
        "# 10. Show the processed image\n",
        "plt.imshow(padded, cmap=\"gray\")\n",
        "plt.title(f\"Processed Input (Model Prediction = {predicted_digit})\")\n",
        "plt.axis(\"off\")\n",
        "plt.show()\n"
      ]
    },
    {
      "cell_type": "code",
      "execution_count": null,
      "metadata": {
        "colab": {
          "base_uri": "https://localhost:8080/",
          "height": 1000
        },
        "id": "g6FtTQMm6JKU",
        "outputId": "c1240182-4f32-4990-98fe-7c7dfed2b2bc"
      },
      "outputs": [
        {
          "output_type": "stream",
          "name": "stdout",
          "text": [
            "Downloading data from https://storage.googleapis.com/tensorflow/tf-keras-datasets/mnist.npz\n",
            "\u001b[1m11490434/11490434\u001b[0m \u001b[32m━━━━━━━━━━━━━━━━━━━━\u001b[0m\u001b[37m\u001b[0m \u001b[1m1s\u001b[0m 0us/step\n"
          ]
        },
        {
          "output_type": "display_data",
          "data": {
            "text/plain": [
              "<Figure size 1500x1200 with 50 Axes>"
            ],
            "image/png": "[encoded data removed]"
          },
          "metadata": {}
        }
      ],
      "source": [
        "import matplotlib.pyplot as plt\n",
        "import numpy as np\n",
        "from tensorflow.keras.datasets import mnist\n",
        "\n",
        "# Load MNIST\n",
        "(x_train, y_train), (x_test, y_test) = mnist.load_data()\n",
        "\n",
        "# For each digit 0-9, show 5 examples\n",
        "plt.figure(figsize=(15, 12))\n",
        "\n",
        "for digit in range(10):\n",
        "    # Find indices where the label equals the current digit\n",
        "    indices = np.where(y_train == digit)[0][:5]  # take first 5\n",
        "    for i, idx in enumerate(indices):\n",
        "        plt.subplot(10, 5, digit*5 + i + 1)  # 10 rows, 5 columns\n",
        "        plt.imshow(x_train[idx], cmap='gray')\n",
        "        plt.axis('off')\n",
        "        if i == 2:  # put label in the middle image of row\n",
        "            plt.title(f\"Digit: {digit}\", fontsize=10)\n",
        "\n",
        "plt.tight_layout()\n",
        "plt.show()\n"
      ]
    },
    {
      "cell_type": "code",
      "execution_count": null,
      "metadata": {
        "colab": {
          "base_uri": "https://localhost:8080/"
        },
        "id": "fW7M_mqlQFxb",
        "outputId": "2fc40a3b-c638-4159-86e2-599b8558da4d"
      },
      "outputs": [
        {
          "output_type": "stream",
          "name": "stdout",
          "text": [
            "Mounted at /content/drive\n"
          ]
        }
      ],
      "source": [
        "from google.colab import drive\n",
        "drive.mount('/content/drive')\n"
      ]
    },
    {
      "cell_type": "code",
      "source": [
        "zip_path = \"/content/drive/MyDrive/operator_dataset.zip\"\n",
        "with zipfile.ZipFile(zip_path, 'r') as zip_ref:\n",
        "    zip_ref.extractall(\"/content/math_symbols_dataset\")\n"
      ],
      "metadata": {
        "id": "VW4rzzBosox5"
      },
      "execution_count": null,
      "outputs": []
    },
    {
      "cell_type": "code",
      "source": [
        "import os\n",
        "import shutil\n",
        "\n",
        "src = \"/content/math_symbols_dataset\"\n",
        "dst = \"/content/operators_subset\"\n",
        "os.makedirs(dst, exist_ok=True)\n",
        "\n",
        "operators = [\"+\", \"-\", \"*\", \"/\", \"=\"]\n",
        "\n",
        "for op in operators:\n",
        "    os.makedirs(os.path.join(dst, op), exist_ok=True)\n",
        "    # Take only first 150 images to reduce size\n",
        "    files = os.listdir(os.path.join(src, op))[:150]\n",
        "    for f in files:\n",
        "        shutil.copy(os.path.join(src, op, f), os.path.join(dst, op, f))\n",
        "\n",
        "# Check that folders are created\n",
        "os.listdir(dst)\n"
      ],
      "metadata": {
        "colab": {
          "base_uri": "https://localhost:8080/",
          "height": 211
        },
        "id": "tkTjWK0otuXd",
        "outputId": "93c64ffe-f0a8-44b3-a700-a03300d05d21"
      },
      "execution_count": null,
      "outputs": [
        {
          "output_type": "error",
          "ename": "FileNotFoundError",
          "evalue": "[Errno 2] No such file or directory: '/content/math_symbols_dataset/+'",
          "traceback": [
            "\u001b[0;31m---------------------------------------------------------------------------\u001b[0m",
            "\u001b[0;31mFileNotFoundError\u001b[0m                         Traceback (most recent call last)",
            "\u001b[0;32m/tmp/ipython-input-2757687213.py\u001b[0m in \u001b[0;36m<cell line: 0>\u001b[0;34m()\u001b[0m\n\u001b[1;32m     11\u001b[0m     \u001b[0mos\u001b[0m\u001b[0;34m.\u001b[0m\u001b[0mmakedirs\u001b[0m\u001b[0;34m(\u001b[0m\u001b[0mos\u001b[0m\u001b[0;34m.\u001b[0m\u001b[0mpath\u001b[0m\u001b[0;34m.\u001b[0m\u001b[0mjoin\u001b[0m\u001b[0;34m(\u001b[0m\u001b[0mdst\u001b[0m\u001b[0;34m,\u001b[0m \u001b[0mop\u001b[0m\u001b[0;34m)\u001b[0m\u001b[0;34m,\u001b[0m \u001b[0mexist_ok\u001b[0m\u001b[0;34m=\u001b[0m\u001b[0;32mTrue\u001b[0m\u001b[0;34m)\u001b[0m\u001b[0;34m\u001b[0m\u001b[0;34m\u001b[0m\u001b[0m\n\u001b[1;32m     12\u001b[0m     \u001b[0;31m# Take only first 150 images to reduce size\u001b[0m\u001b[0;34m\u001b[0m\u001b[0;34m\u001b[0m\u001b[0m\n\u001b[0;32m---> 13\u001b[0;31m     \u001b[0mfiles\u001b[0m \u001b[0;34m=\u001b[0m \u001b[0mos\u001b[0m\u001b[0;34m.\u001b[0m\u001b[0mlistdir\u001b[0m\u001b[0;34m(\u001b[0m\u001b[0mos\u001b[0m\u001b[0;34m.\u001b[0m\u001b[0mpath\u001b[0m\u001b[0;34m.\u001b[0m\u001b[0mjoin\u001b[0m\u001b[0;34m(\u001b[0m\u001b[0msrc\u001b[0m\u001b[0;34m,\u001b[0m \u001b[0mop\u001b[0m\u001b[0;34m)\u001b[0m\u001b[0;34m)\u001b[0m\u001b[0;34m[\u001b[0m\u001b[0;34m:\u001b[0m\u001b[0;36m150\u001b[0m\u001b[0;34m]\u001b[0m\u001b[0;34m\u001b[0m\u001b[0;34m\u001b[0m\u001b[0m\n\u001b[0m\u001b[1;32m     14\u001b[0m     \u001b[0;32mfor\u001b[0m \u001b[0mf\u001b[0m \u001b[0;32min\u001b[0m \u001b[0mfiles\u001b[0m\u001b[0;34m:\u001b[0m\u001b[0;34m\u001b[0m\u001b[0;34m\u001b[0m\u001b[0m\n\u001b[1;32m     15\u001b[0m         \u001b[0mshutil\u001b[0m\u001b[0;34m.\u001b[0m\u001b[0mcopy\u001b[0m\u001b[0;34m(\u001b[0m\u001b[0mos\u001b[0m\u001b[0;34m.\u001b[0m\u001b[0mpath\u001b[0m\u001b[0;34m.\u001b[0m\u001b[0mjoin\u001b[0m\u001b[0;34m(\u001b[0m\u001b[0msrc\u001b[0m\u001b[0;34m,\u001b[0m \u001b[0mop\u001b[0m\u001b[0;34m,\u001b[0m \u001b[0mf\u001b[0m\u001b[0;34m)\u001b[0m\u001b[0;34m,\u001b[0m \u001b[0mos\u001b[0m\u001b[0;34m.\u001b[0m\u001b[0mpath\u001b[0m\u001b[0;34m.\u001b[0m\u001b[0mjoin\u001b[0m\u001b[0;34m(\u001b[0m\u001b[0mdst\u001b[0m\u001b[0;34m,\u001b[0m \u001b[0mop\u001b[0m\u001b[0;34m,\u001b[0m \u001b[0mf\u001b[0m\u001b[0;34m)\u001b[0m\u001b[0;34m)\u001b[0m\u001b[0;34m\u001b[0m\u001b[0;34m\u001b[0m\u001b[0m\n",
            "\u001b[0;31mFileNotFoundError\u001b[0m: [Errno 2] No such file or directory: '/content/math_symbols_dataset/+'"
          ]
        }
      ]
    },
    {
      "cell_type": "code",
      "source": [
        "os.listdir(\"/content/math_symbols_dataset/extracted_images\")[:20]\n"
      ],
      "metadata": {
        "colab": {
          "base_uri": "https://localhost:8080/"
        },
        "id": "qz5yWwhIuNyD",
        "outputId": "0cee8fb3-5031-456d-bae1-40e4abf668a1"
      },
      "execution_count": null,
      "outputs": [
        {
          "output_type": "execute_result",
          "data": {
            "text/plain": [
              "['-', ',', '0', ')', '(', '!', '+']"
            ]
          },
          "metadata": {},
          "execution_count": 12
        }
      ]
    },
    {
      "cell_type": "code",
      "source": [
        "import os\n",
        "import shutil\n",
        "\n",
        "src = \"/content/math_symbols_dataset/extracted_images\"\n",
        "dst = \"/content/operators_subset\"\n",
        "os.makedirs(dst, exist_ok=True)\n",
        "\n",
        "# Only use operators that exist in the dataset\n",
        "operators = [\"+\", \"-\", \"*\", \"/\", \"=\"]\n",
        "existing_ops = [op for op in operators if op in os.listdir(src)]\n",
        "\n",
        "for op in existing_ops:\n",
        "    src_folder = os.path.join(src, op)\n",
        "    dst_folder = os.path.join(dst, op)\n",
        "    os.makedirs(dst_folder, exist_ok=True)\n",
        "\n",
        "    files = os.listdir(src_folder)[:150]  # Take only first 150 images\n",
        "    for f in files:\n",
        "        shutil.copy(os.path.join(src_folder, f), os.path.join(dst_folder, f))\n",
        "\n",
        "# Verify folders\n",
        "os.listdir(dst)\n"
      ],
      "metadata": {
        "id": "QgU14lHsxEgR",
        "outputId": "7fbeaa9c-169f-41ce-aa11-09e2caa67690",
        "colab": {
          "base_uri": "https://localhost:8080/"
        }
      },
      "execution_count": null,
      "outputs": [
        {
          "output_type": "execute_result",
          "data": {
            "text/plain": [
              "['-', '+']"
            ]
          },
          "metadata": {},
          "execution_count": 13
        }
      ]
    },
    {
      "cell_type": "code",
      "source": [
        "from PIL import Image, ImageDraw, ImageFont\n",
        "import os\n",
        "import random\n",
        "\n",
        "# Operators to generate\n",
        "operators = [\"*\", \"/\", \"=\"]\n",
        "num_images = 150  # images per operator\n",
        "\n",
        "# Base folder (existing operator_subset folder)\n",
        "base_dir = \"operator_subset\"\n",
        "os.makedirs(base_dir, exist_ok=True)\n",
        "\n",
        "# Load a handwritten font (download a .ttf handwritten font if you don't have one)\n",
        "font_path = \"PatrickHand-Regular.ttf\"  # replace with your font path\n",
        "font_size = 64\n",
        "font = ImageFont.truetype(font_path, font_size)\n",
        "\n",
        "for op in operators:\n",
        "    op_dir = os.path.join(base_dir, op)\n",
        "    os.makedirs(op_dir, exist_ok=True)  # create folder if it doesn't exist\n",
        "\n",
        "    for i in range(num_images):\n",
        "        # Create white background image\n",
        "        img = Image.new(\"L\", (64, 64), color=255)\n",
        "        draw = ImageDraw.Draw(img)\n",
        "\n",
        "        # Draw the operator with random position jitter\n",
        "        x_jitter = random.randint(-5, 5)\n",
        "        y_jitter = random.randint(-5, 5)\n",
        "        draw.text((10 + x_jitter, 0 + y_jitter), op, font=font, fill=0)\n",
        "\n",
        "        # Apply random rotation for handwriting effect\n",
        "        angle = random.uniform(-15, 15)\n",
        "        img = img.rotate(angle, expand=1, fillcolor=255)\n",
        "\n",
        "        # Crop/pad back to 64x64\n",
        "        img = img.resize((64, 64))\n",
        "\n",
        "        # Save image inside operator_subset folder\n",
        "        img.save(os.path.join(op_dir, f\"{op}_{i+1}.png\"))\n",
        "\n",
        "print(\"Handwritten-like operator images generated and added to operator_subset folder!\")\n"
      ],
      "metadata": {
        "colab": {
          "base_uri": "https://localhost:8080/"
        },
        "id": "qLE7nn4YzZ6m",
        "outputId": "aceed30c-f23f-417c-d232-981aa9618f00"
      },
      "execution_count": null,
      "outputs": [
        {
          "metadata": {
            "tags": null
          },
          "name": "stdout",
          "output_type": "stream",
          "text": [
            "\n",
            "UNRAR 6.11 beta 1 freeware      Copyright (c) 1993-2022 Alexander Roshal\n",
            "\n",
            "\n",
            "Extracting from /content/math_symbols_dataset/data.rar\n",
            "\n",
            "\n",
            "Would you like to replace the existing file /content/math_symbols_dataset/extracted_images/extracted_images/!/!_100071.jpg\n",
            "   544 bytes, modified on 2017-01-15 16:31\n",
            "with a new one\n",
            "   544 bytes, modified on 2017-01-15 16:31\n",
            "\n",
            "[Y]es, [N]o, [A]ll, n[E]ver, [R]ename, [Q]uit "
          ]
        }
      ]
    },
    {
      "cell_type": "code",
      "source": [
        "import os, random, zipfile, requests, shutil\n",
        "from PIL import Image, ImageDraw, ImageFont, ImageOps, ImageFilter\n",
        "import numpy as np\n",
        "\n",
        "# Operators & dataset\n",
        "operators = [\"x\", \"/\"]\n",
        "num_images = 150\n",
        "base_dir = \"operator_subset\"\n",
        "os.makedirs(base_dir, exist_ok=True)\n",
        "\n",
        "# Google Fonts zips (safe, always contain .ttf)\n",
        "font_zips = {\n",
        "    \"PatrickHand\": \"https://github.com/google/fonts/raw/main/ofl/patrickhand/PATRICKHAND.zip\",\n",
        "    \"IndieFlower\": \"https://github.com/google/fonts/raw/main/ofl/indieflower/INDIEFLOWER.zip\",\n",
        "    \"ShadowsIntoLight\": \"https://github.com/google/fonts/raw/main/ofl/shadowsintolight/SHADOWSINTO.zip\"\n",
        "}\n",
        "\n",
        "# Download and extract fonts if missing\n",
        "font_files = {}\n",
        "for name, url in font_zips.items():\n",
        "    font_path = f\"{name}.ttf\"\n",
        "    if not os.path.exists(font_path):\n",
        "        print(f\"Downloading {name} font from {url}...\")\n",
        "        try:\n",
        "            r = requests.get(url)\n",
        "            r.raise_for_status() # Raise an exception for bad status codes\n",
        "            zip_path = f\"{name}.zip\"\n",
        "            with open(zip_path, \"wb\") as f:\n",
        "                f.write(r.content)\n",
        "            print(f\"Downloaded {zip_path}\")\n",
        "\n",
        "            extracted_ttf_path = None\n",
        "            with zipfile.ZipFile(zip_path, \"r\") as z:\n",
        "                print(f\"Extracting from {zip_path}...\")\n",
        "                for file in z.namelist():\n",
        "                    print(f\"  Found file in zip: {file}\")\n",
        "                    if file.lower().endswith(\".ttf\"):\n",
        "                        # Extract the ttf file to a temporary location\n",
        "                        extracted_path = z.extract(file, \".\")\n",
        "                        print(f\"  Extracted {file} to {extracted_path}\")\n",
        "                        # Move the extracted file to the expected location and rename\n",
        "                        shutil.move(extracted_path, font_path)\n",
        "                        extracted_ttf_path = font_path\n",
        "                        print(f\"  Moved {extracted_path} to {font_path}\")\n",
        "                        break # Assume only one ttf per zip\n",
        "\n",
        "            os.remove(zip_path)\n",
        "            if extracted_ttf_path:\n",
        "                font_files[name] = extracted_ttf_path\n",
        "                print(f\"Successfully processed {name}. Font file at: {font_files[name]}\")\n",
        "            else:\n",
        "                print(f\"Error: No .ttf file found in {zip_path} for {name}.\")\n",
        "                # Optionally, handle this error more explicitly, e.g., by skipping this font\n",
        "                # or raising an exception. For now, we'll continue and likely fail later.\n",
        "\n",
        "        except requests.exceptions.RequestException as e:\n",
        "            print(f\"Error downloading {name} font from {url}: {e}\")\n",
        "            # Handle download errors, maybe skip this font\n",
        "\n",
        "        except zipfile.BadZipFile:\n",
        "            print(f\"Error: Downloaded file {zip_path} for {name} is not a valid zip file.\")\n",
        "            # Handle invalid zip files\n",
        "\n",
        "        except Exception as e:\n",
        "            print(f\"An unexpected error occurred while processing {name}: {e}\")\n",
        "            # Catch any other potential errors during extraction/moving\n",
        "    else:\n",
        "        font_files[name] = font_path\n",
        "        print(f\"Font file for {name} already exists at {font_files[name]}\")\n",
        "\n",
        "\n",
        "# Noise augmentation\n",
        "def add_noise(img):\n",
        "    arr = np.array(img)\n",
        "    noise = np.random.randint(0, 50, arr.shape, dtype=\"uint8\")\n",
        "    mask = np.random.rand(*arr.shape) < 0.05\n",
        "    arr[mask] = np.clip(arr[mask] + noise[mask], 0, 255)\n",
        "    return Image.fromarray(arr)\n",
        "\n",
        "# Generate dataset\n",
        "for op in operators:\n",
        "    op_dir = os.path.join(base_dir, op)\n",
        "    os.makedirs(op_dir, exist_ok=True)\n",
        "\n",
        "    for i in range(num_images):\n",
        "        font_name = random.choice(list(font_files.keys())) # Choose only from successfully downloaded fonts\n",
        "        try:\n",
        "            font = ImageFont.truetype(font_files[font_name], 64)\n",
        "        except OSError as e:\n",
        "            print(f\"Error loading font {font_files[font_name]} for operator {op}: {e}\")\n",
        "            continue # Skip generating image for this font/operator combination\n",
        "\n",
        "        img = Image.new(\"L\", (64, 64), 255)\n",
        "        draw = ImageDraw.Draw(img)\n",
        "\n",
        "        # random jitter\n",
        "        x_jitter, y_jitter = random.randint(-5, 5), random.randint(-5, 5)\n",
        "        draw.text((10 + x_jitter, 0 + y_jitter), op, font=font, fill=0)\n",
        "\n",
        "        # rotation\n",
        "        angle = random.uniform(-20, 20)\n",
        "        img = img.rotate(angle, expand=1, fillcolor=255)\n",
        "\n",
        "        # skew\n",
        "        if random.random() < 0.5:\n",
        "            coeffs = (1, random.uniform(-0.3, 0.3), 0,\n",
        "                      random.uniform(-0.3, 0.3), 1, 0)\n",
        "            img = img.transform(img.size, Image.AFFINE, coeffs, fillcolor=255)\n",
        "\n",
        "        # noise\n",
        "        if random.random() < 0.5:\n",
        "            img = add_noise(img)\n",
        "\n",
        "        # blur\n",
        "        if random.random() < 0.3:\n",
        "            img = img.filter(ImageFilter.GaussianBlur(radius=1))\n",
        "\n",
        "        img = ImageOps.fit(img, (64, 64), method=Image.Resampling.LANCZOS)\n",
        "        img.save(os.path.join(op_dir, f\"{op}_{i+1}.png\"))\n",
        "\n",
        "print(\"✅ Handwritten-like operator dataset generation attempt finished.\")"
      ],
      "metadata": {
        "colab": {
          "base_uri": "https://localhost:8080/"
        },
        "id": "smtyeQU77YGv",
        "outputId": "a35f06db-5597-4ca9-85e1-3840132aa262"
      },
      "execution_count": null,
      "outputs": [
        {
          "output_type": "stream",
          "name": "stdout",
          "text": [
            "Font file for PatrickHand already exists at PatrickHand.ttf\n",
            "Font file for IndieFlower already exists at IndieFlower.ttf\n",
            "Font file for ShadowsIntoLight already exists at ShadowsIntoLight.ttf\n",
            "Error loading font ShadowsIntoLight.ttf for operator x: unknown file format\n",
            "Error loading font ShadowsIntoLight.ttf for operator x: unknown file format\n",
            "Error loading font ShadowsIntoLight.ttf for operator x: unknown file format\n",
            "Error loading font ShadowsIntoLight.ttf for operator x: unknown file format\n",
            "Error loading font ShadowsIntoLight.ttf for operator x: unknown file format\n",
            "Error loading font ShadowsIntoLight.ttf for operator x: unknown file format\n",
            "Error loading font ShadowsIntoLight.ttf for operator x: unknown file format\n",
            "Error loading font ShadowsIntoLight.ttf for operator x: unknown file format\n",
            "Error loading font ShadowsIntoLight.ttf for operator x: unknown file format\n",
            "Error loading font ShadowsIntoLight.ttf for operator x: unknown file format\n",
            "Error loading font ShadowsIntoLight.ttf for operator x: unknown file format\n",
            "Error loading font ShadowsIntoLight.ttf for operator x: unknown file format\n",
            "Error loading font ShadowsIntoLight.ttf for operator x: unknown file format\n",
            "Error loading font ShadowsIntoLight.ttf for operator x: unknown file format\n",
            "Error loading font ShadowsIntoLight.ttf for operator x: unknown file format\n",
            "Error loading font ShadowsIntoLight.ttf for operator x: unknown file format\n",
            "Error loading font ShadowsIntoLight.ttf for operator x: unknown file format\n",
            "Error loading font ShadowsIntoLight.ttf for operator x: unknown file format\n",
            "Error loading font ShadowsIntoLight.ttf for operator x: unknown file format\n",
            "Error loading font ShadowsIntoLight.ttf for operator x: unknown file format\n",
            "Error loading font ShadowsIntoLight.ttf for operator x: unknown file format\n",
            "Error loading font ShadowsIntoLight.ttf for operator x: unknown file format\n",
            "Error loading font ShadowsIntoLight.ttf for operator x: unknown file format\n",
            "Error loading font ShadowsIntoLight.ttf for operator x: unknown file format\n",
            "Error loading font ShadowsIntoLight.ttf for operator x: unknown file format\n",
            "Error loading font ShadowsIntoLight.ttf for operator x: unknown file format\n",
            "Error loading font ShadowsIntoLight.ttf for operator x: unknown file format\n",
            "Error loading font ShadowsIntoLight.ttf for operator x: unknown file format\n",
            "Error loading font ShadowsIntoLight.ttf for operator x: unknown file format\n",
            "Error loading font ShadowsIntoLight.ttf for operator x: unknown file format\n",
            "Error loading font ShadowsIntoLight.ttf for operator x: unknown file format\n",
            "Error loading font ShadowsIntoLight.ttf for operator x: unknown file format\n",
            "Error loading font ShadowsIntoLight.ttf for operator x: unknown file format\n",
            "Error loading font ShadowsIntoLight.ttf for operator x: unknown file format\n",
            "Error loading font ShadowsIntoLight.ttf for operator x: unknown file format\n",
            "Error loading font ShadowsIntoLight.ttf for operator x: unknown file format\n",
            "Error loading font ShadowsIntoLight.ttf for operator x: unknown file format\n",
            "Error loading font ShadowsIntoLight.ttf for operator x: unknown file format\n",
            "Error loading font ShadowsIntoLight.ttf for operator x: unknown file format\n",
            "Error loading font ShadowsIntoLight.ttf for operator x: unknown file format\n",
            "Error loading font ShadowsIntoLight.ttf for operator x: unknown file format\n",
            "Error loading font ShadowsIntoLight.ttf for operator x: unknown file format\n",
            "Error loading font ShadowsIntoLight.ttf for operator x: unknown file format\n",
            "Error loading font ShadowsIntoLight.ttf for operator x: unknown file format\n",
            "Error loading font ShadowsIntoLight.ttf for operator x: unknown file format\n",
            "Error loading font ShadowsIntoLight.ttf for operator x: unknown file format\n",
            "Error loading font ShadowsIntoLight.ttf for operator x: unknown file format\n",
            "Error loading font ShadowsIntoLight.ttf for operator x: unknown file format\n",
            "Error loading font ShadowsIntoLight.ttf for operator /: unknown file format\n",
            "Error loading font ShadowsIntoLight.ttf for operator /: unknown file format\n",
            "Error loading font ShadowsIntoLight.ttf for operator /: unknown file format\n",
            "Error loading font ShadowsIntoLight.ttf for operator /: unknown file format\n",
            "Error loading font ShadowsIntoLight.ttf for operator /: unknown file format\n",
            "Error loading font ShadowsIntoLight.ttf for operator /: unknown file format\n",
            "Error loading font ShadowsIntoLight.ttf for operator /: unknown file format\n",
            "Error loading font ShadowsIntoLight.ttf for operator /: unknown file format\n",
            "Error loading font ShadowsIntoLight.ttf for operator /: unknown file format\n",
            "Error loading font ShadowsIntoLight.ttf for operator /: unknown file format\n",
            "Error loading font ShadowsIntoLight.ttf for operator /: unknown file format\n",
            "Error loading font ShadowsIntoLight.ttf for operator /: unknown file format\n",
            "Error loading font ShadowsIntoLight.ttf for operator /: unknown file format\n",
            "Error loading font ShadowsIntoLight.ttf for operator /: unknown file format\n",
            "Error loading font ShadowsIntoLight.ttf for operator /: unknown file format\n",
            "Error loading font ShadowsIntoLight.ttf for operator /: unknown file format\n",
            "Error loading font ShadowsIntoLight.ttf for operator /: unknown file format\n",
            "Error loading font ShadowsIntoLight.ttf for operator /: unknown file format\n",
            "Error loading font ShadowsIntoLight.ttf for operator /: unknown file format\n",
            "Error loading font ShadowsIntoLight.ttf for operator /: unknown file format\n",
            "Error loading font ShadowsIntoLight.ttf for operator /: unknown file format\n",
            "Error loading font ShadowsIntoLight.ttf for operator /: unknown file format\n",
            "Error loading font ShadowsIntoLight.ttf for operator /: unknown file format\n",
            "Error loading font ShadowsIntoLight.ttf for operator /: unknown file format\n",
            "Error loading font ShadowsIntoLight.ttf for operator /: unknown file format\n",
            "Error loading font ShadowsIntoLight.ttf for operator /: unknown file format\n",
            "Error loading font ShadowsIntoLight.ttf for operator /: unknown file format\n",
            "Error loading font ShadowsIntoLight.ttf for operator /: unknown file format\n",
            "Error loading font ShadowsIntoLight.ttf for operator /: unknown file format\n",
            "Error loading font ShadowsIntoLight.ttf for operator /: unknown file format\n",
            "Error loading font ShadowsIntoLight.ttf for operator /: unknown file format\n",
            "Error loading font ShadowsIntoLight.ttf for operator /: unknown file format\n",
            "Error loading font ShadowsIntoLight.ttf for operator /: unknown file format\n",
            "Error loading font ShadowsIntoLight.ttf for operator /: unknown file format\n",
            "Error loading font ShadowsIntoLight.ttf for operator /: unknown file format\n",
            "Error loading font ShadowsIntoLight.ttf for operator /: unknown file format\n",
            "Error loading font ShadowsIntoLight.ttf for operator /: unknown file format\n",
            "Error loading font ShadowsIntoLight.ttf for operator /: unknown file format\n",
            "Error loading font ShadowsIntoLight.ttf for operator /: unknown file format\n",
            "Error loading font ShadowsIntoLight.ttf for operator /: unknown file format\n",
            "✅ Handwritten-like operator dataset generation attempt finished.\n"
          ]
        }
      ]
    },
    {
      "cell_type": "code",
      "source": [
        "import shutil\n",
        "import os\n",
        "\n",
        "folder_path = \"operator_subset\"\n",
        "\n",
        "if os.path.exists(folder_path):\n",
        "    shutil.rmtree(folder_path)\n",
        "    print(\"✅ Deleted folder:\", folder_path)\n",
        "else:\n",
        "    print(\"⚠️ Folder not found:\", folder_path)\n"
      ],
      "metadata": {
        "colab": {
          "base_uri": "https://localhost:8080/"
        },
        "id": "oJYiGmya_mm3",
        "outputId": "6fbebaa1-cade-4357-f2a6-d10ef9a12fa8"
      },
      "execution_count": null,
      "outputs": [
        {
          "output_type": "stream",
          "name": "stdout",
          "text": [
            "✅ Deleted folder: operator_subset\n"
          ]
        }
      ]
    },
    {
      "cell_type": "code",
      "source": [
        "import os\n",
        "import random\n",
        "import requests\n",
        "from PIL import Image, ImageDraw, ImageFont, ImageOps, ImageFilter\n",
        "import numpy as np\n",
        "\n",
        "# -------------------------------\n",
        "# 1️⃣ Paths and folders\n",
        "# -------------------------------\n",
        "base_path = \"/content/operators_subset\"\n",
        "div_symbols = {\"slash\": \"/\", \"div_sign\": \"÷\"}  # folder_name: symbol\n",
        "num_images = 150  # number of images per operator\n",
        "\n",
        "# Create folders if they don't exist\n",
        "for folder in div_symbols.keys():\n",
        "    os.makedirs(os.path.join(base_path, folder), exist_ok=True)\n",
        "\n",
        "# -------------------------------\n",
        "# 2️⃣ Download verified fonts if missing\n",
        "# -------------------------------\n",
        "fonts_urls = {\n",
        "    \"PatrickHand\": \"https://github.com/google/fonts/raw/main/ofl/patrickhand/PatrickHand-Regular.ttf\",\n",
        "    \"IndieFlower\": \"https://github.com/google/fonts/raw/main/ofl/indieflower/IndieFlower-Regular.ttf\",\n",
        "    \"ShadowsIntoLight\": \"https://github.com/google/fonts/raw/main/ofl/shadowsintolight/ShadowsIntoLight-Regular.ttf\"\n",
        "}\n",
        "\n",
        "fonts = []\n",
        "for name, url in fonts_urls.items():\n",
        "    font_path = f\"{name}.ttf\"\n",
        "    if not os.path.exists(font_path):\n",
        "        print(f\"Downloading {name} font...\")\n",
        "        r = requests.get(url)\n",
        "        with open(font_path, \"wb\") as f:\n",
        "            f.write(r.content)\n",
        "    fonts.append(font_path)\n",
        "\n",
        "# -------------------------------\n",
        "# 3️⃣ Helper function: add noise\n",
        "# -------------------------------\n",
        "def add_noise(img):\n",
        "    arr = np.array(img)\n",
        "    noise = np.random.randint(0, 50, arr.shape, dtype=\"uint8\")\n",
        "    mask = np.random.rand(*arr.shape) < 0.05\n",
        "    arr[mask] = np.clip(arr[mask] + noise[mask], 0, 255)\n",
        "    return Image.fromarray(arr)\n",
        "\n",
        "# -------------------------------\n",
        "# 4️⃣ Generate images\n",
        "# -------------------------------\n",
        "for folder_name, symbol in div_symbols.items():\n",
        "    folder_path = os.path.join(base_path, folder_name)\n",
        "    for i in range(num_images):\n",
        "        font_file = random.choice(fonts)\n",
        "        try:\n",
        "            font = ImageFont.truetype(font_file, 64)\n",
        "        except OSError as e:\n",
        "            print(f\"Error loading font {font_file}: {e}\")\n",
        "            continue\n",
        "\n",
        "        img = Image.new(\"L\", (64, 64), 255)\n",
        "        draw = ImageDraw.Draw(img)\n",
        "\n",
        "        # Random jitter\n",
        "        x_jitter, y_jitter = random.randint(-5, 5), random.randint(-5, 5)\n",
        "        draw.text((10 + x_jitter, 0 + y_jitter), symbol, font=font, fill=0)\n",
        "\n",
        "        # Random rotation\n",
        "        angle = random.uniform(-20, 20)\n",
        "        img = img.rotate(angle, expand=1, fillcolor=255)\n",
        "\n",
        "        # Random skew\n",
        "        if random.random() < 0.5:\n",
        "            coeffs = (1, random.uniform(-0.3, 0.3), 0,\n",
        "                      random.uniform(-0.3, 0.3), 1, 0)\n",
        "            img = img.transform(img.size, Image.AFFINE, coeffs, fillcolor=255)\n",
        "\n",
        "        # Noise\n",
        "        if random.random() < 0.5:\n",
        "            img = add_noise(img)\n",
        "\n",
        "        # Optional blur\n",
        "        if random.random() < 0.3:\n",
        "            img = img.filter(ImageFilter.GaussianBlur(radius=1))\n",
        "\n",
        "        # Resize back to 64x64\n",
        "        img = ImageOps.fit(img, (64, 64), method=Image.Resampling.LANCZOS)\n",
        "\n",
        "        # Save image\n",
        "        img.save(os.path.join(folder_path, f\"{folder_name}_{i+1}.png\"))\n",
        "\n",
        "print(\"✅ 150 images each for `/` and `÷` generated successfully!\")\n"
      ],
      "metadata": {
        "colab": {
          "base_uri": "https://localhost:8080/"
        },
        "id": "kt3NFuyxJpsl",
        "outputId": "a0817ef2-f4d4-4789-de28-72d9e5bdfb7f"
      },
      "execution_count": null,
      "outputs": [
        {
          "output_type": "stream",
          "name": "stdout",
          "text": [
            "Error loading font ShadowsIntoLight.ttf: unknown file format\n",
            "Error loading font ShadowsIntoLight.ttf: unknown file format\n",
            "Error loading font ShadowsIntoLight.ttf: unknown file format\n",
            "Error loading font ShadowsIntoLight.ttf: unknown file format\n",
            "Error loading font ShadowsIntoLight.ttf: unknown file format\n",
            "Error loading font ShadowsIntoLight.ttf: unknown file format\n",
            "Error loading font ShadowsIntoLight.ttf: unknown file format\n",
            "Error loading font ShadowsIntoLight.ttf: unknown file format\n",
            "Error loading font ShadowsIntoLight.ttf: unknown file format\n",
            "Error loading font ShadowsIntoLight.ttf: unknown file format\n",
            "Error loading font ShadowsIntoLight.ttf: unknown file format\n",
            "Error loading font ShadowsIntoLight.ttf: unknown file format\n",
            "Error loading font ShadowsIntoLight.ttf: unknown file format\n",
            "Error loading font ShadowsIntoLight.ttf: unknown file format\n",
            "Error loading font ShadowsIntoLight.ttf: unknown file format\n",
            "Error loading font ShadowsIntoLight.ttf: unknown file format\n",
            "Error loading font ShadowsIntoLight.ttf: unknown file format\n",
            "Error loading font ShadowsIntoLight.ttf: unknown file format\n",
            "Error loading font ShadowsIntoLight.ttf: unknown file format\n",
            "Error loading font ShadowsIntoLight.ttf: unknown file format\n",
            "Error loading font ShadowsIntoLight.ttf: unknown file format\n",
            "Error loading font ShadowsIntoLight.ttf: unknown file format\n",
            "Error loading font ShadowsIntoLight.ttf: unknown file format\n",
            "Error loading font ShadowsIntoLight.ttf: unknown file format\n",
            "Error loading font ShadowsIntoLight.ttf: unknown file format\n",
            "Error loading font ShadowsIntoLight.ttf: unknown file format\n",
            "Error loading font ShadowsIntoLight.ttf: unknown file format\n",
            "Error loading font ShadowsIntoLight.ttf: unknown file format\n",
            "Error loading font ShadowsIntoLight.ttf: unknown file format\n",
            "Error loading font ShadowsIntoLight.ttf: unknown file format\n",
            "Error loading font ShadowsIntoLight.ttf: unknown file format\n",
            "Error loading font ShadowsIntoLight.ttf: unknown file format\n",
            "Error loading font ShadowsIntoLight.ttf: unknown file format\n",
            "Error loading font ShadowsIntoLight.ttf: unknown file format\n",
            "Error loading font ShadowsIntoLight.ttf: unknown file format\n",
            "Error loading font ShadowsIntoLight.ttf: unknown file format\n",
            "Error loading font ShadowsIntoLight.ttf: unknown file format\n",
            "Error loading font ShadowsIntoLight.ttf: unknown file format\n",
            "Error loading font ShadowsIntoLight.ttf: unknown file format\n",
            "Error loading font ShadowsIntoLight.ttf: unknown file format\n",
            "Error loading font ShadowsIntoLight.ttf: unknown file format\n",
            "Error loading font ShadowsIntoLight.ttf: unknown file format\n",
            "Error loading font ShadowsIntoLight.ttf: unknown file format\n",
            "Error loading font ShadowsIntoLight.ttf: unknown file format\n",
            "Error loading font ShadowsIntoLight.ttf: unknown file format\n",
            "Error loading font ShadowsIntoLight.ttf: unknown file format\n",
            "Error loading font ShadowsIntoLight.ttf: unknown file format\n",
            "Error loading font ShadowsIntoLight.ttf: unknown file format\n",
            "Error loading font ShadowsIntoLight.ttf: unknown file format\n",
            "Error loading font ShadowsIntoLight.ttf: unknown file format\n",
            "Error loading font ShadowsIntoLight.ttf: unknown file format\n",
            "Error loading font ShadowsIntoLight.ttf: unknown file format\n",
            "Error loading font ShadowsIntoLight.ttf: unknown file format\n",
            "Error loading font ShadowsIntoLight.ttf: unknown file format\n",
            "Error loading font ShadowsIntoLight.ttf: unknown file format\n",
            "Error loading font ShadowsIntoLight.ttf: unknown file format\n",
            "Error loading font ShadowsIntoLight.ttf: unknown file format\n",
            "Error loading font ShadowsIntoLight.ttf: unknown file format\n",
            "Error loading font ShadowsIntoLight.ttf: unknown file format\n",
            "Error loading font ShadowsIntoLight.ttf: unknown file format\n",
            "Error loading font ShadowsIntoLight.ttf: unknown file format\n",
            "Error loading font ShadowsIntoLight.ttf: unknown file format\n",
            "Error loading font ShadowsIntoLight.ttf: unknown file format\n",
            "Error loading font ShadowsIntoLight.ttf: unknown file format\n",
            "Error loading font ShadowsIntoLight.ttf: unknown file format\n",
            "Error loading font ShadowsIntoLight.ttf: unknown file format\n",
            "Error loading font ShadowsIntoLight.ttf: unknown file format\n",
            "Error loading font ShadowsIntoLight.ttf: unknown file format\n",
            "Error loading font ShadowsIntoLight.ttf: unknown file format\n",
            "Error loading font ShadowsIntoLight.ttf: unknown file format\n",
            "Error loading font ShadowsIntoLight.ttf: unknown file format\n",
            "Error loading font ShadowsIntoLight.ttf: unknown file format\n",
            "Error loading font ShadowsIntoLight.ttf: unknown file format\n",
            "Error loading font ShadowsIntoLight.ttf: unknown file format\n",
            "Error loading font ShadowsIntoLight.ttf: unknown file format\n",
            "Error loading font ShadowsIntoLight.ttf: unknown file format\n",
            "Error loading font ShadowsIntoLight.ttf: unknown file format\n",
            "Error loading font ShadowsIntoLight.ttf: unknown file format\n",
            "Error loading font ShadowsIntoLight.ttf: unknown file format\n",
            "Error loading font ShadowsIntoLight.ttf: unknown file format\n",
            "Error loading font ShadowsIntoLight.ttf: unknown file format\n",
            "Error loading font ShadowsIntoLight.ttf: unknown file format\n",
            "Error loading font ShadowsIntoLight.ttf: unknown file format\n",
            "Error loading font ShadowsIntoLight.ttf: unknown file format\n",
            "Error loading font ShadowsIntoLight.ttf: unknown file format\n",
            "Error loading font ShadowsIntoLight.ttf: unknown file format\n",
            "Error loading font ShadowsIntoLight.ttf: unknown file format\n",
            "Error loading font ShadowsIntoLight.ttf: unknown file format\n",
            "Error loading font ShadowsIntoLight.ttf: unknown file format\n",
            "Error loading font ShadowsIntoLight.ttf: unknown file format\n",
            "Error loading font ShadowsIntoLight.ttf: unknown file format\n",
            "Error loading font ShadowsIntoLight.ttf: unknown file format\n",
            "Error loading font ShadowsIntoLight.ttf: unknown file format\n",
            "Error loading font ShadowsIntoLight.ttf: unknown file format\n",
            "Error loading font ShadowsIntoLight.ttf: unknown file format\n",
            "Error loading font ShadowsIntoLight.ttf: unknown file format\n",
            "Error loading font ShadowsIntoLight.ttf: unknown file format\n",
            "Error loading font ShadowsIntoLight.ttf: unknown file format\n",
            "Error loading font ShadowsIntoLight.ttf: unknown file format\n",
            "Error loading font ShadowsIntoLight.ttf: unknown file format\n",
            "Error loading font ShadowsIntoLight.ttf: unknown file format\n",
            "Error loading font ShadowsIntoLight.ttf: unknown file format\n",
            "Error loading font ShadowsIntoLight.ttf: unknown file format\n",
            "Error loading font ShadowsIntoLight.ttf: unknown file format\n",
            "✅ 150 images each for `/` and `÷` generated successfully!\n"
          ]
        }
      ]
    },
    {
      "cell_type": "code",
      "source": [
        "import os\n",
        "from PIL import Image\n",
        "from IPython.display import display\n",
        "\n",
        "base_path = \"/content/operators_subset\"\n",
        "\n",
        "operators = [\"plus\", \"minus\", \"multiply\", \"equal\",\"div_sign\",\"slash\"]\n",
        "\n",
        "for op in operators:\n",
        "    op_path = os.path.join(base_path, op)\n",
        "    images = [f for f in os.listdir(op_path) if f.lower().endswith((\".png\", \".jpg\", \".jpeg\"))][:5]  # first 5 images\n",
        "    print(f\"Operator folder: {op} → {len(images)} images\")\n",
        "    for img_file in images:\n",
        "        img = Image.open(os.path.join(op_path, img_file))\n",
        "        display(img)\n"
      ],
      "metadata": {
        "colab": {
          "base_uri": "https://localhost:8080/",
          "height": 1000
        },
        "id": "SaCdukiBXcih",
        "outputId": "bc8bdb28-df38-406a-b9d3-55c67e38834c"
      },
      "execution_count": null,
      "outputs": [
        {
          "output_type": "stream",
          "name": "stdout",
          "text": [
            "Operator folder: plus → 5 images\n"
          ]
        },
        {
          "output_type": "display_data",
          "data": {
            "text/plain": [
              "<PIL.JpegImagePlugin.JpegImageFile image mode=L size=45x45>"
            ],
            "image/png": "[encoded data removed]",
            "image/jpeg": "[encoded data removed]"
          },
          "metadata": {}
        },
        {
          "output_type": "display_data",
          "data": {
            "text/plain": [
              "<PIL.JpegImagePlugin.JpegImageFile image mode=L size=45x45>"
            ],
            "image/png": "[encoded data removed]",
            "image/jpeg": "[encoded data removed]"
          },
          "metadata": {}
        },
        {
          "output_type": "display_data",
          "data": {
            "text/plain": [
              "<PIL.JpegImagePlugin.JpegImageFile image mode=L size=45x45>"
            ],
            "image/png": "[encoded data removed]",
            "image/jpeg": "[encoded data removed]"
          },
          "metadata": {}
        },
        {
          "output_type": "display_data",
          "data": {
            "text/plain": [
              "<PIL.JpegImagePlugin.JpegImageFile image mode=L size=45x45>"
            ],
            "image/png": "[encoded data removed]",
            "image/jpeg": "[encoded data removed]"
          },
          "metadata": {}
        },
        {
          "output_type": "display_data",
          "data": {
            "text/plain": [
              "<PIL.JpegImagePlugin.JpegImageFile image mode=L size=45x45>"
            ],
            "image/png": "[encoded data removed]",
            "image/jpeg": "[encoded data removed]"
          },
          "metadata": {}
        },
        {
          "output_type": "stream",
          "name": "stdout",
          "text": [
            "Operator folder: minus → 5 images\n"
          ]
        },
        {
          "output_type": "display_data",
          "data": {
            "text/plain": [
              "<PIL.JpegImagePlugin.JpegImageFile image mode=L size=45x45>"
            ],
            "image/png": "[encoded data removed]",
            "image/jpeg": "[encoded data removed]"
          },
          "metadata": {}
        },
        {
          "output_type": "display_data",
          "data": {
            "text/plain": [
              "<PIL.JpegImagePlugin.JpegImageFile image mode=L size=45x45>"
            ],
            "image/png": "[encoded data removed]",
            "image/jpeg": "[encoded data removed]"
          },
          "metadata": {}
        },
        {
          "output_type": "display_data",
          "data": {
            "text/plain": [
              "<PIL.JpegImagePlugin.JpegImageFile image mode=L size=45x45>"
            ],
            "image/png": "[encoded data removed]",
            "image/jpeg": "[encoded data removed]"
          },
          "metadata": {}
        },
        {
          "output_type": "display_data",
          "data": {
            "text/plain": [
              "<PIL.JpegImagePlugin.JpegImageFile image mode=L size=45x45>"
            ],
            "image/png": "[encoded data removed]",
            "image/jpeg": "[encoded data removed]"
          },
          "metadata": {}
        },
        {
          "output_type": "display_data",
          "data": {
            "text/plain": [
              "<PIL.JpegImagePlugin.JpegImageFile image mode=L size=45x45>"
            ],
            "image/png": "[encoded data removed]",
            "image/jpeg": "[encoded data removed]"
          },
          "metadata": {}
        },
        {
          "output_type": "stream",
          "name": "stdout",
          "text": [
            "Operator folder: multiply → 5 images\n"
          ]
        },
        {
          "output_type": "display_data",
          "data": {
            "text/plain": [
              "<PIL.PngImagePlugin.PngImageFile image mode=L size=64x64>"
            ],
            "image/png": "[encoded data removed]",
            "image/jpeg": "[encoded data removed]"
          },
          "metadata": {}
        },
        {
          "output_type": "display_data",
          "data": {
            "text/plain": [
              "<PIL.PngImagePlugin.PngImageFile image mode=L size=64x64>"
            ],
            "image/png": "[encoded data removed]",
            "image/jpeg": "[encoded data removed]"
          },
          "metadata": {}
        },
        {
          "output_type": "display_data",
          "data": {
            "text/plain": [
              "<PIL.PngImagePlugin.PngImageFile image mode=L size=64x64>"
            ],
            "image/png": "[encoded data removed]",
            "image/jpeg": "[encoded data removed]"
          },
          "metadata": {}
        },
        {
          "output_type": "display_data",
          "data": {
            "text/plain": [
              "<PIL.PngImagePlugin.PngImageFile image mode=L size=64x64>"
            ],
            "image/png": "[encoded data removed]",
            "image/jpeg": "[encoded data removed]"
          },
          "metadata": {}
        },
        {
          "output_type": "display_data",
          "data": {
            "text/plain": [
              "<PIL.PngImagePlugin.PngImageFile image mode=L size=64x64>"
            ],
            "image/png": "[encoded data removed]",
            "image/jpeg": "[encoded data removed]"
          },
          "metadata": {}
        },
        {
          "output_type": "stream",
          "name": "stdout",
          "text": [
            "Operator folder: equal → 5 images\n"
          ]
        },
        {
          "output_type": "display_data",
          "data": {
            "text/plain": [
              "<PIL.PngImagePlugin.PngImageFile image mode=L size=64x64>"
            ],
            "image/png": "[encoded data removed]",
            "image/jpeg": "[encoded data removed]"
          },
          "metadata": {}
        },
        {
          "output_type": "display_data",
          "data": {
            "text/plain": [
              "<PIL.PngImagePlugin.PngImageFile image mode=L size=64x64>"
            ],
            "image/png": "[encoded data removed]",
            "image/jpeg": "[encoded data removed]"
          },
          "metadata": {}
        },
        {
          "output_type": "display_data",
          "data": {
            "text/plain": [
              "<PIL.PngImagePlugin.PngImageFile image mode=L size=64x64>"
            ],
            "image/png": "[encoded data removed]",
            "image/jpeg": "[encoded data removed]"
          },
          "metadata": {}
        },
        {
          "output_type": "display_data",
          "data": {
            "text/plain": [
              "<PIL.PngImagePlugin.PngImageFile image mode=L size=64x64>"
            ],
            "image/png": "[encoded data removed]",
            "image/jpeg": "[encoded data removed]"
          },
          "metadata": {}
        },
        {
          "output_type": "display_data",
          "data": {
            "text/plain": [
              "<PIL.PngImagePlugin.PngImageFile image mode=L size=64x64>"
            ],
            "image/png": "[encoded data removed]",
            "image/jpeg": "[encoded data removed]"
          },
          "metadata": {}
        },
        {
          "output_type": "stream",
          "name": "stdout",
          "text": [
            "Operator folder: div_sign → 5 images\n"
          ]
        },
        {
          "output_type": "display_data",
          "data": {
            "text/plain": [
              "<PIL.PngImagePlugin.PngImageFile image mode=L size=64x64>"
            ],
            "image/png": "[encoded data removed]",
            "image/jpeg": "[encoded data removed]"
          },
          "metadata": {}
        },
        {
          "output_type": "display_data",
          "data": {
            "text/plain": [
              "<PIL.PngImagePlugin.PngImageFile image mode=L size=64x64>"
            ],
            "image/png": "[encoded data removed]",
            "image/jpeg": "[encoded data removed]"
          },
          "metadata": {}
        },
        {
          "output_type": "display_data",
          "data": {
            "text/plain": [
              "<PIL.PngImagePlugin.PngImageFile image mode=L size=64x64>"
            ],
            "image/png": "[encoded data removed]",
            "image/jpeg": "[encoded data removed]"
          },
          "metadata": {}
        },
        {
          "output_type": "display_data",
          "data": {
            "text/plain": [
              "<PIL.PngImagePlugin.PngImageFile image mode=L size=64x64>"
            ],
            "image/png": "[encoded data removed]",
            "image/jpeg": "[encoded data removed]"
          },
          "metadata": {}
        },
        {
          "output_type": "display_data",
          "data": {
            "text/plain": [
              "<PIL.PngImagePlugin.PngImageFile image mode=L size=64x64>"
            ],
            "image/png": "[encoded data removed]",
            "image/jpeg": "[encoded data removed]"
          },
          "metadata": {}
        },
        {
          "output_type": "stream",
          "name": "stdout",
          "text": [
            "Operator folder: slash → 5 images\n"
          ]
        },
        {
          "output_type": "display_data",
          "data": {
            "text/plain": [
              "<PIL.PngImagePlugin.PngImageFile image mode=L size=64x64>"
            ],
            "image/png": "[encoded data removed]",
            "image/jpeg": "[encoded data removed]"
          },
          "metadata": {}
        },
        {
          "output_type": "display_data",
          "data": {
            "text/plain": [
              "<PIL.PngImagePlugin.PngImageFile image mode=L size=64x64>"
            ],
            "image/png": "[encoded data removed]",
            "image/jpeg": "[encoded data removed]"
          },
          "metadata": {}
        },
        {
          "output_type": "display_data",
          "data": {
            "text/plain": [
              "<PIL.PngImagePlugin.PngImageFile image mode=L size=64x64>"
            ],
            "image/png": "[encoded data removed]",
            "image/jpeg": "[encoded data removed]"
          },
          "metadata": {}
        },
        {
          "output_type": "display_data",
          "data": {
            "text/plain": [
              "<PIL.PngImagePlugin.PngImageFile image mode=L size=64x64>"
            ],
            "image/png": "[encoded data removed]",
            "image/jpeg": "[encoded data removed]"
          },
          "metadata": {}
        },
        {
          "output_type": "display_data",
          "data": {
            "text/plain": [
              "<PIL.PngImagePlugin.PngImageFile image mode=L size=64x64>"
            ],
            "image/png": "[encoded data removed]",
            "image/jpeg": "[encoded data removed]"
          },
          "metadata": {}
        }
      ]
    },
    {
      "cell_type": "code",
      "source": [
        "import os\n",
        "import numpy as np\n",
        "from PIL import Image\n",
        "from sklearn.model_selection import train_test_split\n",
        "from tensorflow.keras.utils import to_categorical\n",
        "from tensorflow.keras.models import Sequential\n",
        "from tensorflow.keras.layers import Conv2D, MaxPooling2D, Flatten, Dense, Dropout\n",
        "from tensorflow.keras.optimizers import Adam\n"
      ],
      "metadata": {
        "id": "vBGDhrB-XhOb"
      },
      "execution_count": null,
      "outputs": []
    },
    {
      "cell_type": "code",
      "source": [
        "# Path to dataset\n",
        "base_path = \"/content/operators_subset\"\n",
        "\n",
        "# Map folder names to labels\n",
        "labels_map = {\n",
        "    \"plus\": 0,\n",
        "    \"minus\": 1,\n",
        "    \"multiply\": 2,\n",
        "    \"equal\": 3,\n",
        "    \"slash\": 4,\n",
        "    \"div_sign\": 5\n",
        "}\n",
        "\n",
        "image_size = (64, 64)\n",
        "\n",
        "images = []\n",
        "labels = []\n",
        "\n",
        "for folder, label in labels_map.items():\n",
        "    folder_path = os.path.join(base_path, folder)\n",
        "    for img_file in os.listdir(folder_path):\n",
        "        if img_file.endswith(\".png\"):\n",
        "            img_path = os.path.join(folder_path, img_file)\n",
        "            img = Image.open(img_path).convert(\"L\")  # grayscale\n",
        "            img = img.resize(image_size)\n",
        "            img_array = np.array(img) / 255.0  # normalize\n",
        "            images.append(img_array)\n",
        "            labels.append(label)\n",
        "\n",
        "images = np.array(images)\n",
        "labels = np.array(labels)\n",
        "\n",
        "# Add channel dimension for CNN\n",
        "images = images.reshape(-1, image_size[0], image_size[1], 1)\n",
        "labels = to_categorical(labels, num_classes=len(labels_map))\n"
      ],
      "metadata": {
        "id": "RRn2lDmdX_pV"
      },
      "execution_count": null,
      "outputs": []
    },
    {
      "cell_type": "code",
      "source": [
        "X_train, X_test, y_train, y_test = train_test_split(\n",
        "    images, labels, test_size=0.2, random_state=42, stratify=labels\n",
        ")\n"
      ],
      "metadata": {
        "id": "V-H4TWMXYBEn"
      },
      "execution_count": null,
      "outputs": []
    },
    {
      "cell_type": "code",
      "source": [
        "model = Sequential([\n",
        "    Conv2D(32, (3,3), activation='relu', input_shape=(64,64,1)),\n",
        "    MaxPooling2D((2,2)),\n",
        "    Conv2D(64, (3,3), activation='relu'),\n",
        "    MaxPooling2D((2,2)),\n",
        "    Flatten(),\n",
        "    Dense(128, activation='relu'),\n",
        "    Dropout(0.3),\n",
        "    Dense(len(labels_map), activation='softmax')\n",
        "])\n",
        "\n",
        "model.compile(optimizer=Adam(learning_rate=0.001),\n",
        "              loss='categorical_crossentropy',\n",
        "              metrics=['accuracy'])\n",
        "\n",
        "model.summary()\n"
      ],
      "metadata": {
        "colab": {
          "base_uri": "https://localhost:8080/",
          "height": 436
        },
        "id": "QkPRxi4DYCIe",
        "outputId": "4579981f-cbe4-456e-d0c4-6862af9d1ff6"
      },
      "execution_count": null,
      "outputs": [
        {
          "output_type": "stream",
          "name": "stderr",
          "text": [
            "/usr/local/lib/python3.12/dist-packages/keras/src/layers/convolutional/base_conv.py:113: UserWarning: Do not pass an `input_shape`/`input_dim` argument to a layer. When using Sequential models, prefer using an `Input(shape)` object as the first layer in the model instead.\n",
            "  super().__init__(activity_regularizer=activity_regularizer, **kwargs)\n"
          ]
        },
        {
          "output_type": "display_data",
          "data": {
            "text/plain": [
              "\u001b[1mModel: \"sequential_3\"\u001b[0m\n"
            ],
            "text/html": [
              "<pre style=\"white-space:pre;overflow-x:auto;line-height:normal;font-family:Menlo,'DejaVu Sans Mono',consolas,'Courier New',monospace\"><span style=\"font-weight: bold\">Model: \"sequential_3\"</span>\n",
              "</pre>\n"
            ]
          },
          "metadata": {}
        },
        {
          "output_type": "display_data",
          "data": {
            "text/plain": [
              "┏━━━━━━━━━━━━━━━━━━━━━━━━━━━━━━━━━┳━━━━━━━━━━━━━━━━━━━━━━━━┳━━━━━━━━━━━━━━━┓\n",
              "┃\u001b[1m \u001b[0m\u001b[1mLayer (type)                   \u001b[0m\u001b[1m \u001b[0m┃\u001b[1m \u001b[0m\u001b[1mOutput Shape          \u001b[0m\u001b[1m \u001b[0m┃\u001b[1m \u001b[0m\u001b[1m      Param #\u001b[0m\u001b[1m \u001b[0m┃\n",
              "┡━━━━━━━━━━━━━━━━━━━━━━━━━━━━━━━━━╇━━━━━━━━━━━━━━━━━━━━━━━━╇━━━━━━━━━━━━━━━┩\n",
              "│ conv2d_7 (\u001b[38;5;33mConv2D\u001b[0m)               │ (\u001b[38;5;45mNone\u001b[0m, \u001b[38;5;34m62\u001b[0m, \u001b[38;5;34m62\u001b[0m, \u001b[38;5;34m32\u001b[0m)     │           \u001b[38;5;34m320\u001b[0m │\n",
              "├─────────────────────────────────┼────────────────────────┼───────────────┤\n",
              "│ max_pooling2d_7 (\u001b[38;5;33mMaxPooling2D\u001b[0m)  │ (\u001b[38;5;45mNone\u001b[0m, \u001b[38;5;34m31\u001b[0m, \u001b[38;5;34m31\u001b[0m, \u001b[38;5;34m32\u001b[0m)     │             \u001b[38;5;34m0\u001b[0m │\n",
              "├─────────────────────────────────┼────────────────────────┼───────────────┤\n",
              "│ conv2d_8 (\u001b[38;5;33mConv2D\u001b[0m)               │ (\u001b[38;5;45mNone\u001b[0m, \u001b[38;5;34m29\u001b[0m, \u001b[38;5;34m29\u001b[0m, \u001b[38;5;34m64\u001b[0m)     │        \u001b[38;5;34m18,496\u001b[0m │\n",
              "├─────────────────────────────────┼────────────────────────┼───────────────┤\n",
              "│ max_pooling2d_8 (\u001b[38;5;33mMaxPooling2D\u001b[0m)  │ (\u001b[38;5;45mNone\u001b[0m, \u001b[38;5;34m14\u001b[0m, \u001b[38;5;34m14\u001b[0m, \u001b[38;5;34m64\u001b[0m)     │             \u001b[38;5;34m0\u001b[0m │\n",
              "├─────────────────────────────────┼────────────────────────┼───────────────┤\n",
              "│ flatten_3 (\u001b[38;5;33mFlatten\u001b[0m)             │ (\u001b[38;5;45mNone\u001b[0m, \u001b[38;5;34m12544\u001b[0m)          │             \u001b[38;5;34m0\u001b[0m │\n",
              "├─────────────────────────────────┼────────────────────────┼───────────────┤\n",
              "│ dense_6 (\u001b[38;5;33mDense\u001b[0m)                 │ (\u001b[38;5;45mNone\u001b[0m, \u001b[38;5;34m128\u001b[0m)            │     \u001b[38;5;34m1,605,760\u001b[0m │\n",
              "├─────────────────────────────────┼────────────────────────┼───────────────┤\n",
              "│ dropout_3 (\u001b[38;5;33mDropout\u001b[0m)             │ (\u001b[38;5;45mNone\u001b[0m, \u001b[38;5;34m128\u001b[0m)            │             \u001b[38;5;34m0\u001b[0m │\n",
              "├─────────────────────────────────┼────────────────────────┼───────────────┤\n",
              "│ dense_7 (\u001b[38;5;33mDense\u001b[0m)                 │ (\u001b[38;5;45mNone\u001b[0m, \u001b[38;5;34m6\u001b[0m)              │           \u001b[38;5;34m774\u001b[0m │\n",
              "└─────────────────────────────────┴────────────────────────┴───────────────┘\n"
            ],
            "text/html": [
              "<pre style=\"white-space:pre;overflow-x:auto;line-height:normal;font-family:Menlo,'DejaVu Sans Mono',consolas,'Courier New',monospace\">┏━━━━━━━━━━━━━━━━━━━━━━━━━━━━━━━━━┳━━━━━━━━━━━━━━━━━━━━━━━━┳━━━━━━━━━━━━━━━┓\n",
              "┃<span style=\"font-weight: bold\"> Layer (type)                    </span>┃<span style=\"font-weight: bold\"> Output Shape           </span>┃<span style=\"font-weight: bold\">       Param # </span>┃\n",
              "┡━━━━━━━━━━━━━━━━━━━━━━━━━━━━━━━━━╇━━━━━━━━━━━━━━━━━━━━━━━━╇━━━━━━━━━━━━━━━┩\n",
              "│ conv2d_7 (<span style=\"color: #0087ff; text-decoration-color: #0087ff\">Conv2D</span>)               │ (<span style=\"color: #00d7ff; text-decoration-color: #00d7ff\">None</span>, <span style=\"color: #00af00; text-decoration-color: #00af00\">62</span>, <span style=\"color: #00af00; text-decoration-color: #00af00\">62</span>, <span style=\"color: #00af00; text-decoration-color: #00af00\">32</span>)     │           <span style=\"color: #00af00; text-decoration-color: #00af00\">320</span> │\n",
              "├─────────────────────────────────┼────────────────────────┼───────────────┤\n",
              "│ max_pooling2d_7 (<span style=\"color: #0087ff; text-decoration-color: #0087ff\">MaxPooling2D</span>)  │ (<span style=\"color: #00d7ff; text-decoration-color: #00d7ff\">None</span>, <span style=\"color: #00af00; text-decoration-color: #00af00\">31</span>, <span style=\"color: #00af00; text-decoration-color: #00af00\">31</span>, <span style=\"color: #00af00; text-decoration-color: #00af00\">32</span>)     │             <span style=\"color: #00af00; text-decoration-color: #00af00\">0</span> │\n",
              "├─────────────────────────────────┼────────────────────────┼───────────────┤\n",
              "│ conv2d_8 (<span style=\"color: #0087ff; text-decoration-color: #0087ff\">Conv2D</span>)               │ (<span style=\"color: #00d7ff; text-decoration-color: #00d7ff\">None</span>, <span style=\"color: #00af00; text-decoration-color: #00af00\">29</span>, <span style=\"color: #00af00; text-decoration-color: #00af00\">29</span>, <span style=\"color: #00af00; text-decoration-color: #00af00\">64</span>)     │        <span style=\"color: #00af00; text-decoration-color: #00af00\">18,496</span> │\n",
              "├─────────────────────────────────┼────────────────────────┼───────────────┤\n",
              "│ max_pooling2d_8 (<span style=\"color: #0087ff; text-decoration-color: #0087ff\">MaxPooling2D</span>)  │ (<span style=\"color: #00d7ff; text-decoration-color: #00d7ff\">None</span>, <span style=\"color: #00af00; text-decoration-color: #00af00\">14</span>, <span style=\"color: #00af00; text-decoration-color: #00af00\">14</span>, <span style=\"color: #00af00; text-decoration-color: #00af00\">64</span>)     │             <span style=\"color: #00af00; text-decoration-color: #00af00\">0</span> │\n",
              "├─────────────────────────────────┼────────────────────────┼───────────────┤\n",
              "│ flatten_3 (<span style=\"color: #0087ff; text-decoration-color: #0087ff\">Flatten</span>)             │ (<span style=\"color: #00d7ff; text-decoration-color: #00d7ff\">None</span>, <span style=\"color: #00af00; text-decoration-color: #00af00\">12544</span>)          │             <span style=\"color: #00af00; text-decoration-color: #00af00\">0</span> │\n",
              "├─────────────────────────────────┼────────────────────────┼───────────────┤\n",
              "│ dense_6 (<span style=\"color: #0087ff; text-decoration-color: #0087ff\">Dense</span>)                 │ (<span style=\"color: #00d7ff; text-decoration-color: #00d7ff\">None</span>, <span style=\"color: #00af00; text-decoration-color: #00af00\">128</span>)            │     <span style=\"color: #00af00; text-decoration-color: #00af00\">1,605,760</span> │\n",
              "├─────────────────────────────────┼────────────────────────┼───────────────┤\n",
              "│ dropout_3 (<span style=\"color: #0087ff; text-decoration-color: #0087ff\">Dropout</span>)             │ (<span style=\"color: #00d7ff; text-decoration-color: #00d7ff\">None</span>, <span style=\"color: #00af00; text-decoration-color: #00af00\">128</span>)            │             <span style=\"color: #00af00; text-decoration-color: #00af00\">0</span> │\n",
              "├─────────────────────────────────┼────────────────────────┼───────────────┤\n",
              "│ dense_7 (<span style=\"color: #0087ff; text-decoration-color: #0087ff\">Dense</span>)                 │ (<span style=\"color: #00d7ff; text-decoration-color: #00d7ff\">None</span>, <span style=\"color: #00af00; text-decoration-color: #00af00\">6</span>)              │           <span style=\"color: #00af00; text-decoration-color: #00af00\">774</span> │\n",
              "└─────────────────────────────────┴────────────────────────┴───────────────┘\n",
              "</pre>\n"
            ]
          },
          "metadata": {}
        },
        {
          "output_type": "display_data",
          "data": {
            "text/plain": [
              "\u001b[1m Total params: \u001b[0m\u001b[38;5;34m1,625,350\u001b[0m (6.20 MB)\n"
            ],
            "text/html": [
              "<pre style=\"white-space:pre;overflow-x:auto;line-height:normal;font-family:Menlo,'DejaVu Sans Mono',consolas,'Courier New',monospace\"><span style=\"font-weight: bold\"> Total params: </span><span style=\"color: #00af00; text-decoration-color: #00af00\">1,625,350</span> (6.20 MB)\n",
              "</pre>\n"
            ]
          },
          "metadata": {}
        },
        {
          "output_type": "display_data",
          "data": {
            "text/plain": [
              "\u001b[1m Trainable params: \u001b[0m\u001b[38;5;34m1,625,350\u001b[0m (6.20 MB)\n"
            ],
            "text/html": [
              "<pre style=\"white-space:pre;overflow-x:auto;line-height:normal;font-family:Menlo,'DejaVu Sans Mono',consolas,'Courier New',monospace\"><span style=\"font-weight: bold\"> Trainable params: </span><span style=\"color: #00af00; text-decoration-color: #00af00\">1,625,350</span> (6.20 MB)\n",
              "</pre>\n"
            ]
          },
          "metadata": {}
        },
        {
          "output_type": "display_data",
          "data": {
            "text/plain": [
              "\u001b[1m Non-trainable params: \u001b[0m\u001b[38;5;34m0\u001b[0m (0.00 B)\n"
            ],
            "text/html": [
              "<pre style=\"white-space:pre;overflow-x:auto;line-height:normal;font-family:Menlo,'DejaVu Sans Mono',consolas,'Courier New',monospace\"><span style=\"font-weight: bold\"> Non-trainable params: </span><span style=\"color: #00af00; text-decoration-color: #00af00\">0</span> (0.00 B)\n",
              "</pre>\n"
            ]
          },
          "metadata": {}
        }
      ]
    },
    {
      "cell_type": "code",
      "source": [
        "history = model.fit(\n",
        "    X_train, y_train,\n",
        "    validation_data=(X_test, y_test),\n",
        "    epochs=20,\n",
        "    batch_size=32\n",
        ")\n"
      ],
      "metadata": {
        "colab": {
          "base_uri": "https://localhost:8080/"
        },
        "id": "5prgr3VdYEBm",
        "outputId": "bbbe0e0b-72fa-4036-e005-0eb5eb0a9516"
      },
      "execution_count": null,
      "outputs": [
        {
          "output_type": "stream",
          "name": "stdout",
          "text": [
            "Epoch 1/20\n",
            "\u001b[1m12/12\u001b[0m \u001b[32m━━━━━━━━━━━━━━━━━━━━\u001b[0m\u001b[37m\u001b[0m \u001b[1m4s\u001b[0m 174ms/step - accuracy: 0.2005 - loss: 1.6375 - val_accuracy: 0.3333 - val_loss: 1.4024\n",
            "Epoch 2/20\n",
            "\u001b[1m12/12\u001b[0m \u001b[32m━━━━━━━━━━━━━━━━━━━━\u001b[0m\u001b[37m\u001b[0m \u001b[1m2s\u001b[0m 150ms/step - accuracy: 0.4161 - loss: 1.3230 - val_accuracy: 0.6556 - val_loss: 1.0400\n",
            "Epoch 3/20\n",
            "\u001b[1m12/12\u001b[0m \u001b[32m━━━━━━━━━━━━━━━━━━━━\u001b[0m\u001b[37m\u001b[0m \u001b[1m2s\u001b[0m 153ms/step - accuracy: 0.5822 - loss: 1.0694 - val_accuracy: 0.6778 - val_loss: 0.8683\n",
            "Epoch 4/20\n",
            "\u001b[1m12/12\u001b[0m \u001b[32m━━━━━━━━━━━━━━━━━━━━\u001b[0m\u001b[37m\u001b[0m \u001b[1m3s\u001b[0m 151ms/step - accuracy: 0.6713 - loss: 0.8495 - val_accuracy: 0.7667 - val_loss: 0.7207\n",
            "Epoch 5/20\n",
            "\u001b[1m12/12\u001b[0m \u001b[32m━━━━━━━━━━━━━━━━━━━━\u001b[0m\u001b[37m\u001b[0m \u001b[1m4s\u001b[0m 262ms/step - accuracy: 0.6869 - loss: 0.6895 - val_accuracy: 0.7444 - val_loss: 0.6619\n",
            "Epoch 6/20\n",
            "\u001b[1m12/12\u001b[0m \u001b[32m━━━━━━━━━━━━━━━━━━━━\u001b[0m\u001b[37m\u001b[0m \u001b[1m2s\u001b[0m 149ms/step - accuracy: 0.7404 - loss: 0.5607 - val_accuracy: 0.7889 - val_loss: 0.6286\n",
            "Epoch 7/20\n",
            "\u001b[1m12/12\u001b[0m \u001b[32m━━━━━━━━━━━━━━━━━━━━\u001b[0m\u001b[37m\u001b[0m \u001b[1m2s\u001b[0m 151ms/step - accuracy: 0.8484 - loss: 0.3895 - val_accuracy: 0.7778 - val_loss: 0.5982\n",
            "Epoch 8/20\n",
            "\u001b[1m12/12\u001b[0m \u001b[32m━━━━━━━━━━━━━━━━━━━━\u001b[0m\u001b[37m\u001b[0m \u001b[1m3s\u001b[0m 264ms/step - accuracy: 0.8640 - loss: 0.3153 - val_accuracy: 0.7778 - val_loss: 0.5609\n",
            "Epoch 9/20\n",
            "\u001b[1m12/12\u001b[0m \u001b[32m━━━━━━━━━━━━━━━━━━━━\u001b[0m\u001b[37m\u001b[0m \u001b[1m2s\u001b[0m 149ms/step - accuracy: 0.9255 - loss: 0.2461 - val_accuracy: 0.7889 - val_loss: 0.6338\n",
            "Epoch 10/20\n",
            "\u001b[1m12/12\u001b[0m \u001b[32m━━━━━━━━━━━━━━━━━━━━\u001b[0m\u001b[37m\u001b[0m \u001b[1m4s\u001b[0m 239ms/step - accuracy: 0.9242 - loss: 0.2200 - val_accuracy: 0.7889 - val_loss: 0.5492\n",
            "Epoch 11/20\n",
            "\u001b[1m12/12\u001b[0m \u001b[32m━━━━━━━━━━━━━━━━━━━━\u001b[0m\u001b[37m\u001b[0m \u001b[1m3s\u001b[0m 229ms/step - accuracy: 0.8995 - loss: 0.2310 - val_accuracy: 0.8111 - val_loss: 0.5686\n",
            "Epoch 12/20\n",
            "\u001b[1m12/12\u001b[0m \u001b[32m━━━━━━━━━━━━━━━━━━━━\u001b[0m\u001b[37m\u001b[0m \u001b[1m4s\u001b[0m 150ms/step - accuracy: 0.8885 - loss: 0.2331 - val_accuracy: 0.8111 - val_loss: 0.5975\n",
            "Epoch 13/20\n",
            "\u001b[1m12/12\u001b[0m \u001b[32m━━━━━━━━━━━━━━━━━━━━\u001b[0m\u001b[37m\u001b[0m \u001b[1m2s\u001b[0m 150ms/step - accuracy: 0.9652 - loss: 0.1643 - val_accuracy: 0.8444 - val_loss: 0.5653\n",
            "Epoch 14/20\n",
            "\u001b[1m12/12\u001b[0m \u001b[32m━━━━━━━━━━━━━━━━━━━━\u001b[0m\u001b[37m\u001b[0m \u001b[1m2s\u001b[0m 153ms/step - accuracy: 0.9467 - loss: 0.1654 - val_accuracy: 0.8333 - val_loss: 0.5419\n",
            "Epoch 15/20\n",
            "\u001b[1m12/12\u001b[0m \u001b[32m━━━━━━━━━━━━━━━━━━━━\u001b[0m\u001b[37m\u001b[0m \u001b[1m3s\u001b[0m 207ms/step - accuracy: 0.9693 - loss: 0.0900 - val_accuracy: 0.8333 - val_loss: 0.6092\n",
            "Epoch 16/20\n",
            "\u001b[1m12/12\u001b[0m \u001b[32m━━━━━━━━━━━━━━━━━━━━\u001b[0m\u001b[37m\u001b[0m \u001b[1m3s\u001b[0m 250ms/step - accuracy: 0.9954 - loss: 0.0628 - val_accuracy: 0.8444 - val_loss: 0.5830\n",
            "Epoch 17/20\n",
            "\u001b[1m12/12\u001b[0m \u001b[32m━━━━━━━━━━━━━━━━━━━━\u001b[0m\u001b[37m\u001b[0m \u001b[1m2s\u001b[0m 150ms/step - accuracy: 0.9842 - loss: 0.0738 - val_accuracy: 0.8333 - val_loss: 0.5750\n",
            "Epoch 18/20\n",
            "\u001b[1m12/12\u001b[0m \u001b[32m━━━━━━━━━━━━━━━━━━━━\u001b[0m\u001b[37m\u001b[0m \u001b[1m3s\u001b[0m 152ms/step - accuracy: 0.9781 - loss: 0.0879 - val_accuracy: 0.8222 - val_loss: 0.5866\n",
            "Epoch 19/20\n",
            "\u001b[1m12/12\u001b[0m \u001b[32m━━━━━━━━━━━━━━━━━━━━\u001b[0m\u001b[37m\u001b[0m \u001b[1m2s\u001b[0m 153ms/step - accuracy: 0.9936 - loss: 0.0537 - val_accuracy: 0.8111 - val_loss: 0.6103\n",
            "Epoch 20/20\n",
            "\u001b[1m12/12\u001b[0m \u001b[32m━━━━━━━━━━━━━━━━━━━━\u001b[0m\u001b[37m\u001b[0m \u001b[1m3s\u001b[0m 155ms/step - accuracy: 0.9753 - loss: 0.0735 - val_accuracy: 0.8222 - val_loss: 0.6235\n"
          ]
        }
      ]
    },
    {
      "cell_type": "code",
      "source": [
        "loss, acc = model.evaluate(X_test, y_test)\n",
        "print(f\"Test Accuracy: {acc*100:.2f}%\")\n"
      ],
      "metadata": {
        "colab": {
          "base_uri": "https://localhost:8080/"
        },
        "id": "qYwRmiKiYD7E",
        "outputId": "1c2525bf-966c-4239-ac70-7d6f8cffb017"
      },
      "execution_count": null,
      "outputs": [
        {
          "output_type": "stream",
          "name": "stdout",
          "text": [
            "\u001b[1m3/3\u001b[0m \u001b[32m━━━━━━━━━━━━━━━━━━━━\u001b[0m\u001b[37m\u001b[0m \u001b[1m0s\u001b[0m 51ms/step - accuracy: 0.8174 - loss: 0.6534\n",
            "Test Accuracy: 82.22%\n"
          ]
        }
      ]
    },
    {
      "cell_type": "code",
      "source": [
        "from tensorflow import keras\n",
        "from google.colab import files\n",
        "\n",
        "# 1️⃣ Save in native Keras format (recommended)\n",
        "model.save(\"operator_cnn.keras\")\n",
        "print(\"✅ Model saved as operator_cnn.keras\")\n",
        "\n",
        "# 2️⃣ (Optional) Save in HDF5 format\n",
        "# model.save(\"operator_cnn.h5\")\n",
        "# print(\"✅ Model saved as operator_cnn.h5\")\n",
        "\n",
        "# 3️⃣ Download the saved model to your local machine\n",
        "files.download(\"operator_cnn.keras\")\n",
        "\n",
        "# If you saved as .h5 instead:\n",
        "# files.download(\"operator_cnn.h5\")\n"
      ],
      "metadata": {
        "colab": {
          "base_uri": "https://localhost:8080/",
          "height": 34
        },
        "id": "kukohJkdcFdO",
        "outputId": "cded3c3a-d1c3-47f6-aced-e5f092a0cba7"
      },
      "execution_count": null,
      "outputs": [
        {
          "output_type": "stream",
          "name": "stdout",
          "text": [
            "✅ Model saved as operator_cnn.keras\n"
          ]
        },
        {
          "output_type": "display_data",
          "data": {
            "text/plain": [
              "<IPython.core.display.Javascript object>"
            ],
            "application/javascript": [
              "\n",
              "    async function download(id, filename, size) {\n",
              "      if (!google.colab.kernel.accessAllowed) {\n",
              "        return;\n",
              "      }\n",
              "      const div = document.createElement('div');\n",
              "      const label = document.createElement('label');\n",
              "      label.textContent = `Downloading \"${filename}\": `;\n",
              "      div.appendChild(label);\n",
              "      const progress = document.createElement('progress');\n",
              "      progress.max = size;\n",
              "      div.appendChild(progress);\n",
              "      document.body.appendChild(div);\n",
              "\n",
              "      const buffers = [];\n",
              "      let downloaded = 0;\n",
              "\n",
              "      const channel = await google.colab.kernel.comms.open(id);\n",
              "      // Send a message to notify the kernel that we're ready.\n",
              "      channel.send({})\n",
              "\n",
              "      for await (const message of channel.messages) {\n",
              "        // Send a message to notify the kernel that we're ready.\n",
              "        channel.send({})\n",
              "        if (message.buffers) {\n",
              "          for (const buffer of message.buffers) {\n",
              "            buffers.push(buffer);\n",
              "            downloaded += buffer.byteLength;\n",
              "            progress.value = downloaded;\n",
              "          }\n",
              "        }\n",
              "      }\n",
              "      const blob = new Blob(buffers, {type: 'application/binary'});\n",
              "      const a = document.createElement('a');\n",
              "      a.href = window.URL.createObjectURL(blob);\n",
              "      a.download = filename;\n",
              "      div.appendChild(a);\n",
              "      a.click();\n",
              "      div.remove();\n",
              "    }\n",
              "  "
            ]
          },
          "metadata": {}
        },
        {
          "output_type": "display_data",
          "data": {
            "text/plain": [
              "<IPython.core.display.Javascript object>"
            ],
            "application/javascript": [
              "download(\"download_ac448c35-a0c2-446a-b02a-7d4f72f8bcfa\", \"operator_cnn.keras\", 19543306)"
            ]
          },
          "metadata": {}
        }
      ]
    },
    {
      "cell_type": "code",
      "source": [
        "from tensorflow import keras\n",
        "\n",
        "# Load the saved model\n",
        "model = keras.models.load_model(\"operator_cnn.keras\")  # or .h5 if you saved that\n",
        "print(\"✅ Model loaded successfully\")\n"
      ],
      "metadata": {
        "id": "CgACtSHbdEg5",
        "outputId": "f459ccba-9823-455a-e227-46901eb833fb",
        "colab": {
          "base_uri": "https://localhost:8080/"
        }
      },
      "execution_count": null,
      "outputs": [
        {
          "output_type": "stream",
          "name": "stdout",
          "text": [
            "✅ Model loaded successfully\n"
          ]
        },
        {
          "output_type": "stream",
          "name": "stderr",
          "text": [
            "/usr/local/lib/python3.12/dist-packages/keras/src/saving/saving_lib.py:802: UserWarning: Skipping variable loading for optimizer 'rmsprop', because it has 10 variables whereas the saved optimizer has 18 variables. \n",
            "  saveable.load_own_variables(weights_store.get(inner_path))\n"
          ]
        }
      ]
    },
    {
      "cell_type": "code",
      "source": [
        "loss, acc = model.evaluate(X_test, y_test)\n",
        "print(f\"Test Accuracy: {acc*100:.2f}%\")\n"
      ],
      "metadata": {
        "id": "3u3oKMR5dF-l",
        "outputId": "f0d35ffd-da01-48e9-c404-3d3cdc111982",
        "colab": {
          "base_uri": "https://localhost:8080/"
        }
      },
      "execution_count": null,
      "outputs": [
        {
          "output_type": "stream",
          "name": "stdout",
          "text": [
            "\u001b[1m3/3\u001b[0m \u001b[32m━━━━━━━━━━━━━━━━━━━━\u001b[0m\u001b[37m\u001b[0m \u001b[1m1s\u001b[0m 125ms/step - accuracy: 0.8174 - loss: 0.6534\n",
            "Test Accuracy: 82.22%\n"
          ]
        }
      ]
    },
    {
      "cell_type": "code",
      "source": [
        "import numpy as np\n",
        "from PIL import Image, ImageOps\n",
        "import matplotlib.pyplot as plt\n",
        "from tensorflow.keras.models import load_model\n",
        "from google.colab import files\n",
        "\n",
        "# 1. Load the trained model\n",
        "model = load_model(\"mnist_cnn.h5\")\n",
        "\n",
        "# 2. Upload an image\n",
        "uploaded = files.upload()\n",
        "\n",
        "for filename in uploaded.keys():\n",
        "    img_path = filename\n",
        "\n",
        "    # 3. Preprocess the image\n",
        "    img = Image.open(img_path).convert(\"L\")   # grayscale\n",
        "    img = ImageOps.invert(img)                # invert (MNIST digits are white on black)\n",
        "    img = img.resize((28, 28))                # resize to 28x28\n",
        "\n",
        "    img_array = np.array(img).astype(\"float32\") / 255.0\n",
        "    img_array = img_array.reshape(1, 28, 28, 1)\n",
        "\n",
        "    # 4. Predict\n",
        "    prediction = model.predict(img_array)\n",
        "    predicted_digit = np.argmax(prediction)\n",
        "\n",
        "    # 5. Show result\n",
        "    plt.imshow(img, cmap=\"gray\")\n",
        "    plt.title(f\"Predicted: {predicted_digit}\")\n",
        "    plt.axis(\"off\")\n",
        "    plt.show()\n",
        "\n",
        "    print(\"Predicted digit:\", predicted_digit)\n"
      ],
      "metadata": {
        "id": "eAl3kMFkl7C9"
      },
      "execution_count": null,
      "outputs": []
    }
  ],
  "metadata": {
    "colab": {
      "provenance": [],
      "include_colab_link": true
    },
    "kernelspec": {
      "display_name": "Python 3",
      "name": "python3"
    },
    "language_info": {
      "name": "python"
    }
  },
  "nbformat": 4,
  "nbformat_minor": 0
}